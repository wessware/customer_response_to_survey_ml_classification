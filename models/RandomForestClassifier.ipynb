{
 "cells": [
  {
   "cell_type": "code",
   "execution_count": 1,
   "metadata": {},
   "outputs": [],
   "source": [
    "import pandas as pd\n",
    "import matplotlib\n",
    "import matplotlib.pyplot as plt\n",
    "import numpy as np\n",
    "import seaborn as sns \n",
    "from sklearn.preprocessing import StandardScaler\n",
    "from sklearn.ensemble import RandomForestClassifier\n",
    "from sklearn.model_selection import train_test_split\n",
    "from sklearn.metrics import accuracy_score, confusion_matrix, classification_report"
   ]
  },
  {
   "cell_type": "code",
   "execution_count": 3,
   "metadata": {},
   "outputs": [],
   "source": [
    "customer = pd.read_csv('../dataset/customer_classification_clean_data.csv')"
   ]
  },
  {
   "cell_type": "code",
   "execution_count": 4,
   "metadata": {},
   "outputs": [
    {
     "data": {
      "text/html": [
       "<div>\n",
       "<style scoped>\n",
       "    .dataframe tbody tr th:only-of-type {\n",
       "        vertical-align: middle;\n",
       "    }\n",
       "\n",
       "    .dataframe tbody tr th {\n",
       "        vertical-align: top;\n",
       "    }\n",
       "\n",
       "    .dataframe thead th {\n",
       "        text-align: right;\n",
       "    }\n",
       "</style>\n",
       "<table border=\"1\" class=\"dataframe\">\n",
       "  <thead>\n",
       "    <tr style=\"text-align: right;\">\n",
       "      <th></th>\n",
       "      <th>age</th>\n",
       "      <th>current_balance</th>\n",
       "      <th>conn_tr</th>\n",
       "      <th>this_campaign</th>\n",
       "      <th>days_since_last_contact_previous_campaign</th>\n",
       "      <th>contacted_during_previous_campaign</th>\n",
       "      <th>job_admin.</th>\n",
       "      <th>job_blue-collar</th>\n",
       "      <th>job_entrepreneur</th>\n",
       "      <th>job_housemaid</th>\n",
       "      <th>...</th>\n",
       "      <th>has_tv_package_yes</th>\n",
       "      <th>last_contact_cell</th>\n",
       "      <th>last_contact_cellular</th>\n",
       "      <th>last_contact_telephone</th>\n",
       "      <th>last_contact_unknown</th>\n",
       "      <th>outcome_previous_campaign_failure</th>\n",
       "      <th>outcome_previous_campaign_other</th>\n",
       "      <th>outcome_previous_campaign_success</th>\n",
       "      <th>outcome_previous_campaign_unknown</th>\n",
       "      <th>new_contract_this_campaign</th>\n",
       "    </tr>\n",
       "  </thead>\n",
       "  <tbody>\n",
       "    <tr>\n",
       "      <th>0</th>\n",
       "      <td>39</td>\n",
       "      <td>-1.90</td>\n",
       "      <td>4</td>\n",
       "      <td>8</td>\n",
       "      <td>-1</td>\n",
       "      <td>0</td>\n",
       "      <td>0</td>\n",
       "      <td>0</td>\n",
       "      <td>0</td>\n",
       "      <td>0</td>\n",
       "      <td>...</td>\n",
       "      <td>1</td>\n",
       "      <td>0</td>\n",
       "      <td>0</td>\n",
       "      <td>0</td>\n",
       "      <td>1</td>\n",
       "      <td>0</td>\n",
       "      <td>0</td>\n",
       "      <td>0</td>\n",
       "      <td>1</td>\n",
       "      <td>1</td>\n",
       "    </tr>\n",
       "    <tr>\n",
       "      <th>1</th>\n",
       "      <td>53</td>\n",
       "      <td>3.62</td>\n",
       "      <td>1</td>\n",
       "      <td>2</td>\n",
       "      <td>-1</td>\n",
       "      <td>0</td>\n",
       "      <td>0</td>\n",
       "      <td>0</td>\n",
       "      <td>0</td>\n",
       "      <td>1</td>\n",
       "      <td>...</td>\n",
       "      <td>0</td>\n",
       "      <td>0</td>\n",
       "      <td>1</td>\n",
       "      <td>0</td>\n",
       "      <td>0</td>\n",
       "      <td>0</td>\n",
       "      <td>0</td>\n",
       "      <td>0</td>\n",
       "      <td>1</td>\n",
       "      <td>1</td>\n",
       "    </tr>\n",
       "    <tr>\n",
       "      <th>2</th>\n",
       "      <td>79</td>\n",
       "      <td>27.87</td>\n",
       "      <td>3</td>\n",
       "      <td>1</td>\n",
       "      <td>377</td>\n",
       "      <td>1</td>\n",
       "      <td>0</td>\n",
       "      <td>0</td>\n",
       "      <td>0</td>\n",
       "      <td>0</td>\n",
       "      <td>...</td>\n",
       "      <td>0</td>\n",
       "      <td>0</td>\n",
       "      <td>0</td>\n",
       "      <td>1</td>\n",
       "      <td>0</td>\n",
       "      <td>0</td>\n",
       "      <td>0</td>\n",
       "      <td>1</td>\n",
       "      <td>0</td>\n",
       "      <td>1</td>\n",
       "    </tr>\n",
       "    <tr>\n",
       "      <th>3</th>\n",
       "      <td>43</td>\n",
       "      <td>5.50</td>\n",
       "      <td>3</td>\n",
       "      <td>2</td>\n",
       "      <td>-1</td>\n",
       "      <td>0</td>\n",
       "      <td>0</td>\n",
       "      <td>0</td>\n",
       "      <td>0</td>\n",
       "      <td>0</td>\n",
       "      <td>...</td>\n",
       "      <td>0</td>\n",
       "      <td>0</td>\n",
       "      <td>1</td>\n",
       "      <td>0</td>\n",
       "      <td>0</td>\n",
       "      <td>0</td>\n",
       "      <td>0</td>\n",
       "      <td>0</td>\n",
       "      <td>1</td>\n",
       "      <td>0</td>\n",
       "    </tr>\n",
       "    <tr>\n",
       "      <th>4</th>\n",
       "      <td>35</td>\n",
       "      <td>3.44</td>\n",
       "      <td>2</td>\n",
       "      <td>16</td>\n",
       "      <td>-1</td>\n",
       "      <td>0</td>\n",
       "      <td>0</td>\n",
       "      <td>0</td>\n",
       "      <td>0</td>\n",
       "      <td>0</td>\n",
       "      <td>...</td>\n",
       "      <td>0</td>\n",
       "      <td>0</td>\n",
       "      <td>1</td>\n",
       "      <td>0</td>\n",
       "      <td>0</td>\n",
       "      <td>0</td>\n",
       "      <td>0</td>\n",
       "      <td>0</td>\n",
       "      <td>1</td>\n",
       "      <td>1</td>\n",
       "    </tr>\n",
       "  </tbody>\n",
       "</table>\n",
       "<p>5 rows × 41 columns</p>\n",
       "</div>"
      ],
      "text/plain": [
       "   age  current_balance  conn_tr  this_campaign  \\\n",
       "0   39            -1.90        4              8   \n",
       "1   53             3.62        1              2   \n",
       "2   79            27.87        3              1   \n",
       "3   43             5.50        3              2   \n",
       "4   35             3.44        2             16   \n",
       "\n",
       "   days_since_last_contact_previous_campaign  \\\n",
       "0                                         -1   \n",
       "1                                         -1   \n",
       "2                                        377   \n",
       "3                                         -1   \n",
       "4                                         -1   \n",
       "\n",
       "   contacted_during_previous_campaign  job_admin.  job_blue-collar  \\\n",
       "0                                   0           0                0   \n",
       "1                                   0           0                0   \n",
       "2                                   1           0                0   \n",
       "3                                   0           0                0   \n",
       "4                                   0           0                0   \n",
       "\n",
       "   job_entrepreneur  job_housemaid  ...  has_tv_package_yes  \\\n",
       "0                 0              0  ...                   1   \n",
       "1                 0              1  ...                   0   \n",
       "2                 0              0  ...                   0   \n",
       "3                 0              0  ...                   0   \n",
       "4                 0              0  ...                   0   \n",
       "\n",
       "   last_contact_cell  last_contact_cellular  last_contact_telephone  \\\n",
       "0                  0                      0                       0   \n",
       "1                  0                      1                       0   \n",
       "2                  0                      0                       1   \n",
       "3                  0                      1                       0   \n",
       "4                  0                      1                       0   \n",
       "\n",
       "   last_contact_unknown  outcome_previous_campaign_failure  \\\n",
       "0                     1                                  0   \n",
       "1                     0                                  0   \n",
       "2                     0                                  0   \n",
       "3                     0                                  0   \n",
       "4                     0                                  0   \n",
       "\n",
       "   outcome_previous_campaign_other  outcome_previous_campaign_success  \\\n",
       "0                                0                                  0   \n",
       "1                                0                                  0   \n",
       "2                                0                                  1   \n",
       "3                                0                                  0   \n",
       "4                                0                                  0   \n",
       "\n",
       "   outcome_previous_campaign_unknown  new_contract_this_campaign  \n",
       "0                                  1                           1  \n",
       "1                                  1                           1  \n",
       "2                                  0                           1  \n",
       "3                                  1                           0  \n",
       "4                                  1                           1  \n",
       "\n",
       "[5 rows x 41 columns]"
      ]
     },
     "execution_count": 4,
     "metadata": {},
     "output_type": "execute_result"
    }
   ],
   "source": [
    "customer.head()"
   ]
  },
  {
   "cell_type": "code",
   "execution_count": 5,
   "metadata": {},
   "outputs": [
    {
     "data": {
      "text/plain": [
       "(50662, 41)"
      ]
     },
     "execution_count": 5,
     "metadata": {},
     "output_type": "execute_result"
    }
   ],
   "source": [
    "customer.shape"
   ]
  },
  {
   "cell_type": "code",
   "execution_count": 6,
   "metadata": {},
   "outputs": [
    {
     "data": {
      "text/plain": [
       "age                                            int64\n",
       "current_balance                              float64\n",
       "conn_tr                                        int64\n",
       "this_campaign                                  int64\n",
       "days_since_last_contact_previous_campaign      int64\n",
       "contacted_during_previous_campaign             int64\n",
       "job_admin.                                     int64\n",
       "job_blue-collar                                int64\n",
       "job_entrepreneur                               int64\n",
       "job_housemaid                                  int64\n",
       "job_management                                 int64\n",
       "job_retired                                    int64\n",
       "job_self-employed                              int64\n",
       "job_services                                   int64\n",
       "job_student                                    int64\n",
       "job_technician                                 int64\n",
       "job_unemployed                                 int64\n",
       "job_unknown                                    int64\n",
       "married_divorced                               int64\n",
       "married_married                                int64\n",
       "married_single                                 int64\n",
       "education_primary                              int64\n",
       "education_secondary                            int64\n",
       "education_tertiary                             int64\n",
       "education_unknown                              int64\n",
       "arrears_no                                     int64\n",
       "arrears_yes                                    int64\n",
       "housing_no                                     int64\n",
       "housing_yes                                    int64\n",
       "has_tv_package_n                               int64\n",
       "has_tv_package_no                              int64\n",
       "has_tv_package_yes                             int64\n",
       "last_contact_cell                              int64\n",
       "last_contact_cellular                          int64\n",
       "last_contact_telephone                         int64\n",
       "last_contact_unknown                           int64\n",
       "outcome_previous_campaign_failure              int64\n",
       "outcome_previous_campaign_other                int64\n",
       "outcome_previous_campaign_success              int64\n",
       "outcome_previous_campaign_unknown              int64\n",
       "new_contract_this_campaign                     int64\n",
       "dtype: object"
      ]
     },
     "execution_count": 6,
     "metadata": {},
     "output_type": "execute_result"
    }
   ],
   "source": [
    "customer.dtypes"
   ]
  },
  {
   "cell_type": "code",
   "execution_count": 8,
   "metadata": {},
   "outputs": [],
   "source": [
    "x = customer.drop(columns=['new_contract_this_campaign'])\n",
    "y = customer['new_contract_this_campaign']"
   ]
  },
  {
   "cell_type": "code",
   "execution_count": 9,
   "metadata": {},
   "outputs": [],
   "source": [
    "x_train_val, x_test, y_train_val, y_test = train_test_split(x, y, test_size=0.2, random_state=30)"
   ]
  },
  {
   "cell_type": "code",
   "execution_count": 10,
   "metadata": {},
   "outputs": [],
   "source": [
    "x_train, x_val, y_train, y_val = train_test_split(x_train_val, y_train_val, test_size=0.25, random_state=30)"
   ]
  },
  {
   "cell_type": "code",
   "execution_count": 11,
   "metadata": {},
   "outputs": [
    {
     "name": "stdout",
     "output_type": "stream",
     "text": [
      "x_train.shape:  (30396, 40)\n",
      "y_train.shape:  (30396,)\n",
      "x_val.shape:  (10133, 40)\n",
      "y_val.shape:  (10133,)\n",
      "x_test.shape:  (10133, 40)\n",
      "x_test.shape:  (10133, 40)\n"
     ]
    }
   ],
   "source": [
    "print('x_train.shape: ', x_train.shape)\n",
    "print('y_train.shape: ', y_train.shape)\n",
    "print('x_val.shape: ', x_val.shape)\n",
    "print('y_val.shape: ', y_val.shape)\n",
    "print('x_test.shape: ', x_test.shape)\n",
    "print('x_test.shape: ', x_test.shape)\n"
   ]
  },
  {
   "cell_type": "code",
   "execution_count": 12,
   "metadata": {},
   "outputs": [],
   "source": [
    "rfc_model = RandomForestClassifier(n_jobs=-1, random_state=42)"
   ]
  },
  {
   "cell_type": "code",
   "execution_count": 13,
   "metadata": {},
   "outputs": [
    {
     "data": {
      "text/plain": [
       "RandomForestClassifier(n_jobs=-1, random_state=42)"
      ]
     },
     "execution_count": 13,
     "metadata": {},
     "output_type": "execute_result"
    }
   ],
   "source": [
    "rfc_model.fit(x_train, y_train)"
   ]
  },
  {
   "cell_type": "code",
   "execution_count": 14,
   "metadata": {},
   "outputs": [
    {
     "data": {
      "text/plain": [
       "0.9998026056060008"
      ]
     },
     "execution_count": 14,
     "metadata": {},
     "output_type": "execute_result"
    }
   ],
   "source": [
    "rfc_model.score(x_train, y_train)"
   ]
  },
  {
   "cell_type": "code",
   "execution_count": 15,
   "metadata": {},
   "outputs": [
    {
     "data": {
      "text/plain": [
       "0.8671666831145761"
      ]
     },
     "execution_count": 15,
     "metadata": {},
     "output_type": "execute_result"
    }
   ],
   "source": [
    "rfc_model.score(x_val, y_val)"
   ]
  },
  {
   "cell_type": "code",
   "execution_count": 16,
   "metadata": {},
   "outputs": [
    {
     "data": {
      "text/plain": [
       "array([[1.  , 0.  ],\n",
       "       [0.93, 0.07],\n",
       "       [0.96, 0.04],\n",
       "       ...,\n",
       "       [0.98, 0.02],\n",
       "       [0.97, 0.03],\n",
       "       [0.97, 0.03]])"
      ]
     },
     "execution_count": 16,
     "metadata": {},
     "output_type": "execute_result"
    }
   ],
   "source": [
    "rfc_proba = rfc_model.predict_proba(x_train)\n",
    "rfc_proba"
   ]
  },
  {
   "cell_type": "code",
   "execution_count": 17,
   "metadata": {},
   "outputs": [
    {
     "data": {
      "text/plain": [
       "DecisionTreeClassifier(max_features='auto', random_state=1608637542)"
      ]
     },
     "execution_count": 17,
     "metadata": {},
     "output_type": "execute_result"
    }
   ],
   "source": [
    "rfc_model.estimators_[0]"
   ]
  },
  {
   "cell_type": "markdown",
   "metadata": {},
   "source": [
    "plt.figure(figsize=(80, 20))\n",
    "plot_tree(rfc_model.estimators_[0], \n",
    "          max_depth=2, \n",
    "          feature_names=x_train.columns, \n",
    "          filled=True, \n",
    "          rounded=True, \n",
    "          class_names = rfc_model.classes_\n",
    "          )"
   ]
  },
  {
   "cell_type": "code",
   "execution_count": 18,
   "metadata": {},
   "outputs": [
    {
     "data": {
      "text/plain": [
       "100"
      ]
     },
     "execution_count": 18,
     "metadata": {},
     "output_type": "execute_result"
    }
   ],
   "source": [
    "len(rfc_model.estimators_)"
   ]
  },
  {
   "cell_type": "code",
   "execution_count": 19,
   "metadata": {},
   "outputs": [
    {
     "data": {
      "text/html": [
       "<div>\n",
       "<style scoped>\n",
       "    .dataframe tbody tr th:only-of-type {\n",
       "        vertical-align: middle;\n",
       "    }\n",
       "\n",
       "    .dataframe tbody tr th {\n",
       "        vertical-align: top;\n",
       "    }\n",
       "\n",
       "    .dataframe thead th {\n",
       "        text-align: right;\n",
       "    }\n",
       "</style>\n",
       "<table border=\"1\" class=\"dataframe\">\n",
       "  <thead>\n",
       "    <tr style=\"text-align: right;\">\n",
       "      <th></th>\n",
       "      <th>feature</th>\n",
       "      <th>importance</th>\n",
       "    </tr>\n",
       "  </thead>\n",
       "  <tbody>\n",
       "    <tr>\n",
       "      <th>1</th>\n",
       "      <td>current_balance</td>\n",
       "      <td>0.241834</td>\n",
       "    </tr>\n",
       "    <tr>\n",
       "      <th>0</th>\n",
       "      <td>age</td>\n",
       "      <td>0.201511</td>\n",
       "    </tr>\n",
       "    <tr>\n",
       "      <th>3</th>\n",
       "      <td>this_campaign</td>\n",
       "      <td>0.077468</td>\n",
       "    </tr>\n",
       "    <tr>\n",
       "      <th>2</th>\n",
       "      <td>conn_tr</td>\n",
       "      <td>0.074206</td>\n",
       "    </tr>\n",
       "    <tr>\n",
       "      <th>4</th>\n",
       "      <td>days_since_last_contact_previous_campaign</td>\n",
       "      <td>0.056537</td>\n",
       "    </tr>\n",
       "    <tr>\n",
       "      <th>38</th>\n",
       "      <td>outcome_previous_campaign_success</td>\n",
       "      <td>0.054260</td>\n",
       "    </tr>\n",
       "    <tr>\n",
       "      <th>5</th>\n",
       "      <td>contacted_during_previous_campaign</td>\n",
       "      <td>0.030500</td>\n",
       "    </tr>\n",
       "    <tr>\n",
       "      <th>28</th>\n",
       "      <td>housing_yes</td>\n",
       "      <td>0.015447</td>\n",
       "    </tr>\n",
       "    <tr>\n",
       "      <th>27</th>\n",
       "      <td>housing_no</td>\n",
       "      <td>0.014494</td>\n",
       "    </tr>\n",
       "    <tr>\n",
       "      <th>33</th>\n",
       "      <td>last_contact_cellular</td>\n",
       "      <td>0.013030</td>\n",
       "    </tr>\n",
       "  </tbody>\n",
       "</table>\n",
       "</div>"
      ],
      "text/plain": [
       "                                      feature  importance\n",
       "1                             current_balance    0.241834\n",
       "0                                         age    0.201511\n",
       "3                               this_campaign    0.077468\n",
       "2                                     conn_tr    0.074206\n",
       "4   days_since_last_contact_previous_campaign    0.056537\n",
       "38          outcome_previous_campaign_success    0.054260\n",
       "5          contacted_during_previous_campaign    0.030500\n",
       "28                                housing_yes    0.015447\n",
       "27                                 housing_no    0.014494\n",
       "33                      last_contact_cellular    0.013030"
      ]
     },
     "execution_count": 19,
     "metadata": {},
     "output_type": "execute_result"
    }
   ],
   "source": [
    "importance_df = pd.DataFrame({\n",
    "    'feature' : x_train.columns,\n",
    "    'importance' : rfc_model.feature_importances_\n",
    "}).sort_values('importance', ascending=False)\n",
    "\n",
    "importance_df.head(10)"
   ]
  },
  {
   "cell_type": "code",
   "execution_count": 20,
   "metadata": {},
   "outputs": [
    {
     "data": {
      "text/plain": [
       "<AxesSubplot:title={'center':'Feature Importance'}, xlabel='importance', ylabel='feature'>"
      ]
     },
     "execution_count": 20,
     "metadata": {},
     "output_type": "execute_result"
    },
    {
     "data": {
      "image/png": "[encoded data removed]",
      "text/plain": [
       "<Figure size 720x432 with 1 Axes>"
      ]
     },
     "metadata": {},
     "output_type": "display_data"
    }
   ],
   "source": [
    "sns.set_style('darkgrid')\n",
    "matplotlib.rcParams['font.size'] = 14\n",
    "matplotlib.rcParams['figure.figsize'] = (16, 10)\n",
    "matplotlib.rcParams['figure.facecolor'] = '#000000'\n",
    "\n",
    "plt.title('Feature Importance')\n",
    "sns.barplot(data=importance_df, x='importance', y='feature')"
   ]
  },
  {
   "cell_type": "code",
   "execution_count": 21,
   "metadata": {},
   "outputs": [],
   "source": [
    "def error_rate(est):\n",
    "    rfc_model_1 = RandomForestClassifier(random_state=42, n_jobs=-1, n_estimators=est)\n",
    "    rfc_model_1.fit(x_train, y_train)\n",
    "    \n",
    "    rfc_train_accuracy = 1 - rfc_model_1.score(x_train, y_train)\n",
    "    rfc_val_accuracy = 1 - rfc_model_1.score(x_val, y_val)\n",
    "    \n",
    "    return {\n",
    "        'No. of Estimators' : est, \n",
    "        'Training Error' : rfc_train_accuracy,\n",
    "        'Validation Error' : rfc_val_accuracy\n",
    "    }"
   ]
  },
  {
   "cell_type": "code",
   "execution_count": 22,
   "metadata": {},
   "outputs": [],
   "source": [
    "rfc_error_df = pd.DataFrame([error_rate(est) for est in range (1, 30)])"
   ]
  },
  {
   "cell_type": "code",
   "execution_count": 23,
   "metadata": {},
   "outputs": [
    {
     "data": {
      "text/html": [
       "<div>\n",
       "<style scoped>\n",
       "    .dataframe tbody tr th:only-of-type {\n",
       "        vertical-align: middle;\n",
       "    }\n",
       "\n",
       "    .dataframe tbody tr th {\n",
       "        vertical-align: top;\n",
       "    }\n",
       "\n",
       "    .dataframe thead th {\n",
       "        text-align: right;\n",
       "    }\n",
       "</style>\n",
       "<table border=\"1\" class=\"dataframe\">\n",
       "  <thead>\n",
       "    <tr style=\"text-align: right;\">\n",
       "      <th></th>\n",
       "      <th>No. of Estimators</th>\n",
       "      <th>Training Error</th>\n",
       "      <th>Validation Error</th>\n",
       "    </tr>\n",
       "  </thead>\n",
       "  <tbody>\n",
       "    <tr>\n",
       "      <th>0</th>\n",
       "      <td>1</td>\n",
       "      <td>0.077247</td>\n",
       "      <td>0.213362</td>\n",
       "    </tr>\n",
       "    <tr>\n",
       "      <th>1</th>\n",
       "      <td>2</td>\n",
       "      <td>0.070075</td>\n",
       "      <td>0.171617</td>\n",
       "    </tr>\n",
       "    <tr>\n",
       "      <th>2</th>\n",
       "      <td>3</td>\n",
       "      <td>0.033985</td>\n",
       "      <td>0.176256</td>\n",
       "    </tr>\n",
       "    <tr>\n",
       "      <th>3</th>\n",
       "      <td>4</td>\n",
       "      <td>0.039841</td>\n",
       "      <td>0.162440</td>\n",
       "    </tr>\n",
       "    <tr>\n",
       "      <th>4</th>\n",
       "      <td>5</td>\n",
       "      <td>0.020299</td>\n",
       "      <td>0.160268</td>\n",
       "    </tr>\n",
       "    <tr>\n",
       "      <th>5</th>\n",
       "      <td>6</td>\n",
       "      <td>0.026155</td>\n",
       "      <td>0.153459</td>\n",
       "    </tr>\n",
       "    <tr>\n",
       "      <th>6</th>\n",
       "      <td>7</td>\n",
       "      <td>0.014706</td>\n",
       "      <td>0.152176</td>\n",
       "    </tr>\n",
       "    <tr>\n",
       "      <th>7</th>\n",
       "      <td>8</td>\n",
       "      <td>0.018522</td>\n",
       "      <td>0.147340</td>\n",
       "    </tr>\n",
       "    <tr>\n",
       "      <th>8</th>\n",
       "      <td>9</td>\n",
       "      <td>0.010561</td>\n",
       "      <td>0.147735</td>\n",
       "    </tr>\n",
       "    <tr>\n",
       "      <th>9</th>\n",
       "      <td>10</td>\n",
       "      <td>0.013719</td>\n",
       "      <td>0.145465</td>\n",
       "    </tr>\n",
       "    <tr>\n",
       "      <th>10</th>\n",
       "      <td>11</td>\n",
       "      <td>0.007896</td>\n",
       "      <td>0.142801</td>\n",
       "    </tr>\n",
       "    <tr>\n",
       "      <th>11</th>\n",
       "      <td>12</td>\n",
       "      <td>0.010857</td>\n",
       "      <td>0.142702</td>\n",
       "    </tr>\n",
       "    <tr>\n",
       "      <th>12</th>\n",
       "      <td>13</td>\n",
       "      <td>0.006053</td>\n",
       "      <td>0.142702</td>\n",
       "    </tr>\n",
       "    <tr>\n",
       "      <th>13</th>\n",
       "      <td>14</td>\n",
       "      <td>0.008291</td>\n",
       "      <td>0.138557</td>\n",
       "    </tr>\n",
       "    <tr>\n",
       "      <th>14</th>\n",
       "      <td>15</td>\n",
       "      <td>0.004672</td>\n",
       "      <td>0.138656</td>\n",
       "    </tr>\n",
       "    <tr>\n",
       "      <th>15</th>\n",
       "      <td>16</td>\n",
       "      <td>0.006481</td>\n",
       "      <td>0.136880</td>\n",
       "    </tr>\n",
       "    <tr>\n",
       "      <th>16</th>\n",
       "      <td>17</td>\n",
       "      <td>0.004145</td>\n",
       "      <td>0.138755</td>\n",
       "    </tr>\n",
       "    <tr>\n",
       "      <th>17</th>\n",
       "      <td>18</td>\n",
       "      <td>0.005461</td>\n",
       "      <td>0.136781</td>\n",
       "    </tr>\n",
       "    <tr>\n",
       "      <th>18</th>\n",
       "      <td>19</td>\n",
       "      <td>0.003191</td>\n",
       "      <td>0.136485</td>\n",
       "    </tr>\n",
       "    <tr>\n",
       "      <th>19</th>\n",
       "      <td>20</td>\n",
       "      <td>0.004606</td>\n",
       "      <td>0.136090</td>\n",
       "    </tr>\n",
       "    <tr>\n",
       "      <th>20</th>\n",
       "      <td>21</td>\n",
       "      <td>0.002731</td>\n",
       "      <td>0.135794</td>\n",
       "    </tr>\n",
       "    <tr>\n",
       "      <th>21</th>\n",
       "      <td>22</td>\n",
       "      <td>0.003718</td>\n",
       "      <td>0.135597</td>\n",
       "    </tr>\n",
       "    <tr>\n",
       "      <th>22</th>\n",
       "      <td>23</td>\n",
       "      <td>0.002336</td>\n",
       "      <td>0.135991</td>\n",
       "    </tr>\n",
       "    <tr>\n",
       "      <th>23</th>\n",
       "      <td>24</td>\n",
       "      <td>0.003257</td>\n",
       "      <td>0.134708</td>\n",
       "    </tr>\n",
       "    <tr>\n",
       "      <th>24</th>\n",
       "      <td>25</td>\n",
       "      <td>0.001974</td>\n",
       "      <td>0.134807</td>\n",
       "    </tr>\n",
       "    <tr>\n",
       "      <th>25</th>\n",
       "      <td>26</td>\n",
       "      <td>0.002731</td>\n",
       "      <td>0.134511</td>\n",
       "    </tr>\n",
       "    <tr>\n",
       "      <th>26</th>\n",
       "      <td>27</td>\n",
       "      <td>0.001744</td>\n",
       "      <td>0.134018</td>\n",
       "    </tr>\n",
       "    <tr>\n",
       "      <th>27</th>\n",
       "      <td>28</td>\n",
       "      <td>0.002270</td>\n",
       "      <td>0.133327</td>\n",
       "    </tr>\n",
       "    <tr>\n",
       "      <th>28</th>\n",
       "      <td>29</td>\n",
       "      <td>0.001546</td>\n",
       "      <td>0.135202</td>\n",
       "    </tr>\n",
       "  </tbody>\n",
       "</table>\n",
       "</div>"
      ],
      "text/plain": [
       "    No. of Estimators  Training Error  Validation Error\n",
       "0                   1        0.077247          0.213362\n",
       "1                   2        0.070075          0.171617\n",
       "2                   3        0.033985          0.176256\n",
       "3                   4        0.039841          0.162440\n",
       "4                   5        0.020299          0.160268\n",
       "5                   6        0.026155          0.153459\n",
       "6                   7        0.014706          0.152176\n",
       "7                   8        0.018522          0.147340\n",
       "8                   9        0.010561          0.147735\n",
       "9                  10        0.013719          0.145465\n",
       "10                 11        0.007896          0.142801\n",
       "11                 12        0.010857          0.142702\n",
       "12                 13        0.006053          0.142702\n",
       "13                 14        0.008291          0.138557\n",
       "14                 15        0.004672          0.138656\n",
       "15                 16        0.006481          0.136880\n",
       "16                 17        0.004145          0.138755\n",
       "17                 18        0.005461          0.136781\n",
       "18                 19        0.003191          0.136485\n",
       "19                 20        0.004606          0.136090\n",
       "20                 21        0.002731          0.135794\n",
       "21                 22        0.003718          0.135597\n",
       "22                 23        0.002336          0.135991\n",
       "23                 24        0.003257          0.134708\n",
       "24                 25        0.001974          0.134807\n",
       "25                 26        0.002731          0.134511\n",
       "26                 27        0.001744          0.134018\n",
       "27                 28        0.002270          0.133327\n",
       "28                 29        0.001546          0.135202"
      ]
     },
     "execution_count": 23,
     "metadata": {},
     "output_type": "execute_result"
    }
   ],
   "source": [
    "rfc_error_df"
   ]
  },
  {
   "cell_type": "code",
   "execution_count": 24,
   "metadata": {},
   "outputs": [
    {
     "data": {
      "text/plain": [
       "<matplotlib.legend.Legend at 0x24f55454250>"
      ]
     },
     "execution_count": 24,
     "metadata": {},
     "output_type": "execute_result"
    },
    {
     "data": {
      "image/png": "[encoded data removed]",
      "text/plain": [
       "<Figure size 720x432 with 1 Axes>"
      ]
     },
     "metadata": {},
     "output_type": "display_data"
    }
   ],
   "source": [
    "plt.figure()\n",
    "plt.plot(rfc_error_df['No. of Estimators'], rfc_error_df['Training Error'])\n",
    "plt.plot(rfc_error_df['No. of Estimators'], rfc_error_df['Validation Error'])\n",
    "plt.title('Training vs Validation Error')\n",
    "plt.xticks(range(0,30,2))\n",
    "plt.xlabel('Max. Estimators')\n",
    "plt.ylabel('Prediction Error (1 - Accuracy)')\n",
    "plt.legend(['Trainng', 'Validation'])"
   ]
  },
  {
   "cell_type": "code",
   "execution_count": 25,
   "metadata": {},
   "outputs": [],
   "source": [
    "def md_error_rate(dm):\n",
    "    rfc_model_1 = RandomForestClassifier(random_state=42, n_jobs=-1, max_depth=dm)\n",
    "    rfc_model_1.fit(x_train, y_train)\n",
    "    \n",
    "    rfc_train_accuracy = 1 - rfc_model_1.score(x_train, y_train)\n",
    "    rfc_val_accuracy = 1 - rfc_model_1.score(x_val, y_val)\n",
    "    \n",
    "    return {\n",
    "        'Max Depth' : dm, \n",
    "        'Training Error' : rfc_train_accuracy,\n",
    "        'Validation Error' : rfc_val_accuracy\n",
    "    }"
   ]
  },
  {
   "cell_type": "code",
   "execution_count": 26,
   "metadata": {},
   "outputs": [],
   "source": [
    "md_df = pd.DataFrame([md_error_rate(dm) for dm in range (1, 26)])"
   ]
  },
  {
   "cell_type": "code",
   "execution_count": 27,
   "metadata": {},
   "outputs": [
    {
     "data": {
      "text/plain": [
       "<matplotlib.legend.Legend at 0x24f55486c70>"
      ]
     },
     "execution_count": 27,
     "metadata": {},
     "output_type": "execute_result"
    },
    {
     "data": {
      "image/png": "[encoded data removed]",
      "text/plain": [
       "<Figure size 720x432 with 1 Axes>"
      ]
     },
     "metadata": {},
     "output_type": "display_data"
    }
   ],
   "source": [
    "plt.figure()\n",
    "plt.plot(md_df['Max Depth'], md_df['Training Error'])\n",
    "plt.plot(md_df['Max Depth'], md_df['Validation Error'])\n",
    "plt.title('Training vs Validation Error')\n",
    "plt.xticks(range(0,26,2))\n",
    "plt.xlabel('Max Depth')\n",
    "plt.ylabel('Prediction Error (1 - Accuracy)')\n",
    "plt.legend(['Trainng', 'Validation'])"
   ]
  },
  {
   "cell_type": "code",
   "execution_count": 28,
   "metadata": {},
   "outputs": [],
   "source": [
    "def mln_error_rate(mln):\n",
    "    rfc_model_1 = RandomForestClassifier(random_state=42, n_jobs=-1, max_leaf_nodes=mln)\n",
    "    rfc_model_1.fit(x_train, y_train)\n",
    "    \n",
    "    rfc_train_accuracy = 1 - rfc_model_1.score(x_train, y_train)\n",
    "    rfc_val_accuracy = 1 - rfc_model_1.score(x_val, y_val)\n",
    "    \n",
    "    return {\n",
    "        'Max Leaf_nodes' : mln, \n",
    "        'Training Error' : rfc_train_accuracy,\n",
    "        'Validation Error' : rfc_val_accuracy\n",
    "    }"
   ]
  },
  {
   "cell_type": "code",
   "execution_count": 29,
   "metadata": {},
   "outputs": [],
   "source": [
    "mln_df = pd.DataFrame([mln_error_rate(mln) for mln in range(2, 32)])"
   ]
  },
  {
   "cell_type": "code",
   "execution_count": 30,
   "metadata": {},
   "outputs": [
    {
     "data": {
      "text/plain": [
       "<matplotlib.legend.Legend at 0x24f5551eeb0>"
      ]
     },
     "execution_count": 30,
     "metadata": {},
     "output_type": "execute_result"
    },
    {
     "data": {
      "image/png": "[encoded data removed]",
      "text/plain": [
       "<Figure size 720x432 with 1 Axes>"
      ]
     },
     "metadata": {},
     "output_type": "display_data"
    }
   ],
   "source": [
    "plt.figure()\n",
    "plt.plot(mln_df['Max Leaf_nodes'], mln_df['Training Error'])\n",
    "plt.plot(mln_df['Max Leaf_nodes'], mln_df['Validation Error'])\n",
    "plt.title('Training vs Validation Error')\n",
    "plt.xticks(range(0,32,2))\n",
    "plt.xlabel('Max Leaf_nodes')\n",
    "plt.ylabel('Prediction Error (1 - Accuracy)')\n",
    "plt.legend(['Trainng', 'Validation'])"
   ]
  },
  {
   "cell_type": "code",
   "execution_count": 31,
   "metadata": {},
   "outputs": [],
   "source": [
    "def mf_error_rate(mf):\n",
    "    rfc_model_1 = RandomForestClassifier(random_state=42, n_jobs=-1, max_features=mf)\n",
    "    rfc_model_1.fit(x_train, y_train)\n",
    "    \n",
    "    rfc_train_accuracy = 1 - rfc_model_1.score(x_train, y_train)\n",
    "    rfc_val_accuracy = 1 - rfc_model_1.score(x_val, y_val)\n",
    "    \n",
    "    return {\n",
    "        'Max Features' : mf, \n",
    "        'Training Error' : rfc_train_accuracy,\n",
    "        'Validation Error' : rfc_val_accuracy\n",
    "    }"
   ]
  },
  {
   "cell_type": "code",
   "execution_count": 32,
   "metadata": {},
   "outputs": [
    {
     "data": {
      "text/html": [
       "<div>\n",
       "<style scoped>\n",
       "    .dataframe tbody tr th:only-of-type {\n",
       "        vertical-align: middle;\n",
       "    }\n",
       "\n",
       "    .dataframe tbody tr th {\n",
       "        vertical-align: top;\n",
       "    }\n",
       "\n",
       "    .dataframe thead th {\n",
       "        text-align: right;\n",
       "    }\n",
       "</style>\n",
       "<table border=\"1\" class=\"dataframe\">\n",
       "  <thead>\n",
       "    <tr style=\"text-align: right;\">\n",
       "      <th></th>\n",
       "      <th>Max Features</th>\n",
       "      <th>Training Error</th>\n",
       "      <th>Validation Error</th>\n",
       "    </tr>\n",
       "  </thead>\n",
       "  <tbody>\n",
       "    <tr>\n",
       "      <th>0</th>\n",
       "      <td>log2</td>\n",
       "      <td>0.000197</td>\n",
       "      <td>0.134412</td>\n",
       "    </tr>\n",
       "  </tbody>\n",
       "</table>\n",
       "</div>"
      ],
      "text/plain": [
       "  Max Features  Training Error  Validation Error\n",
       "0         log2        0.000197          0.134412"
      ]
     },
     "execution_count": 32,
     "metadata": {},
     "output_type": "execute_result"
    }
   ],
   "source": [
    "mf_df = pd.DataFrame([mf_error_rate('log2')])\n",
    "mf_df"
   ]
  },
  {
   "cell_type": "code",
   "execution_count": 33,
   "metadata": {},
   "outputs": [
    {
     "data": {
      "text/html": [
       "<div>\n",
       "<style scoped>\n",
       "    .dataframe tbody tr th:only-of-type {\n",
       "        vertical-align: middle;\n",
       "    }\n",
       "\n",
       "    .dataframe tbody tr th {\n",
       "        vertical-align: top;\n",
       "    }\n",
       "\n",
       "    .dataframe thead th {\n",
       "        text-align: right;\n",
       "    }\n",
       "</style>\n",
       "<table border=\"1\" class=\"dataframe\">\n",
       "  <thead>\n",
       "    <tr style=\"text-align: right;\">\n",
       "      <th></th>\n",
       "      <th>Max Features</th>\n",
       "      <th>Training Error</th>\n",
       "      <th>Validation Error</th>\n",
       "    </tr>\n",
       "  </thead>\n",
       "  <tbody>\n",
       "    <tr>\n",
       "      <th>0</th>\n",
       "      <td>sqrt</td>\n",
       "      <td>0.000197</td>\n",
       "      <td>0.132833</td>\n",
       "    </tr>\n",
       "  </tbody>\n",
       "</table>\n",
       "</div>"
      ],
      "text/plain": [
       "  Max Features  Training Error  Validation Error\n",
       "0         sqrt        0.000197          0.132833"
      ]
     },
     "execution_count": 33,
     "metadata": {},
     "output_type": "execute_result"
    }
   ],
   "source": [
    "mf_df = pd.DataFrame([mf_error_rate('sqrt')])\n",
    "mf_df"
   ]
  },
  {
   "cell_type": "code",
   "execution_count": 34,
   "metadata": {},
   "outputs": [
    {
     "data": {
      "text/html": [
       "<div>\n",
       "<style scoped>\n",
       "    .dataframe tbody tr th:only-of-type {\n",
       "        vertical-align: middle;\n",
       "    }\n",
       "\n",
       "    .dataframe tbody tr th {\n",
       "        vertical-align: top;\n",
       "    }\n",
       "\n",
       "    .dataframe thead th {\n",
       "        text-align: right;\n",
       "    }\n",
       "</style>\n",
       "<table border=\"1\" class=\"dataframe\">\n",
       "  <thead>\n",
       "    <tr style=\"text-align: right;\">\n",
       "      <th></th>\n",
       "      <th>Max Features</th>\n",
       "      <th>Training Error</th>\n",
       "      <th>Validation Error</th>\n",
       "    </tr>\n",
       "  </thead>\n",
       "  <tbody>\n",
       "    <tr>\n",
       "      <th>0</th>\n",
       "      <td>auto</td>\n",
       "      <td>0.000197</td>\n",
       "      <td>0.132833</td>\n",
       "    </tr>\n",
       "  </tbody>\n",
       "</table>\n",
       "</div>"
      ],
      "text/plain": [
       "  Max Features  Training Error  Validation Error\n",
       "0         auto        0.000197          0.132833"
      ]
     },
     "execution_count": 34,
     "metadata": {},
     "output_type": "execute_result"
    }
   ],
   "source": [
    "mf_df = pd.DataFrame([mf_error_rate('auto')])\n",
    "mf_df"
   ]
  },
  {
   "cell_type": "code",
   "execution_count": 35,
   "metadata": {},
   "outputs": [],
   "source": [
    "def arg_parameters(**params):\n",
    "    rf_test = RandomForestClassifier(random_state=42, n_jobs=-1, **params).fit(x_train, y_train)\n",
    "    \n",
    "    return rf_test.score(x_train, y_train), rf_test.score(x_val, y_val)"
   ]
  },
  {
   "cell_type": "code",
   "execution_count": 36,
   "metadata": {},
   "outputs": [
    {
     "data": {
      "text/plain": [
       "(0.9984537439136728, 0.8658837461758611)"
      ]
     },
     "execution_count": 36,
     "metadata": {},
     "output_type": "execute_result"
    }
   ],
   "source": [
    "arg_parameters(min_impurity_decrease=1e-7)"
   ]
  },
  {
   "cell_type": "code",
   "execution_count": 37,
   "metadata": {},
   "outputs": [
    {
     "data": {
      "text/plain": [
       "(0.8805763916304777, 0.8432843185631106)"
      ]
     },
     "execution_count": 37,
     "metadata": {},
     "output_type": "execute_result"
    }
   ],
   "source": [
    "arg_parameters(min_impurity_decrease=1e-5)\n"
   ]
  },
  {
   "cell_type": "code",
   "execution_count": 38,
   "metadata": {},
   "outputs": [
    {
     "data": {
      "text/plain": [
       "(0.9998026056060008, 0.8764433040560545)"
      ]
     },
     "execution_count": 38,
     "metadata": {},
     "output_type": "execute_result"
    }
   ],
   "source": [
    "arg_parameters(bootstrap=False)\n"
   ]
  },
  {
   "cell_type": "code",
   "execution_count": 39,
   "metadata": {},
   "outputs": [
    {
     "data": {
      "text/plain": [
       "(0.9994407158836689, 0.8648968716076186)"
      ]
     },
     "execution_count": 39,
     "metadata": {},
     "output_type": "execute_result"
    }
   ],
   "source": [
    "arg_parameters(bootstrap=True, max_samples=0.9)\n"
   ]
  },
  {
   "cell_type": "code",
   "execution_count": 40,
   "metadata": {},
   "outputs": [],
   "source": [
    "rf_tuned = RandomForestClassifier(\n",
    "    random_state=42,\n",
    "    n_estimators=4,\n",
    "    max_features='sqrt',\n",
    "    max_leaf_nodes=4,\n",
    "    max_depth=4,\n",
    "    min_impurity_decrease=1e-5,\n",
    "    bootstrap=True,\n",
    "    max_samples=0.9,\n",
    ")"
   ]
  },
  {
   "cell_type": "code",
   "execution_count": 41,
   "metadata": {},
   "outputs": [
    {
     "data": {
      "text/plain": [
       "RandomForestClassifier(max_depth=4, max_features='sqrt', max_leaf_nodes=4,\n",
       "                       max_samples=0.9, min_impurity_decrease=1e-05,\n",
       "                       n_estimators=4, random_state=42)"
      ]
     },
     "execution_count": 41,
     "metadata": {},
     "output_type": "execute_result"
    }
   ],
   "source": [
    "rf_tuned.fit(x_train, y_train)"
   ]
  },
  {
   "cell_type": "code",
   "execution_count": 42,
   "metadata": {},
   "outputs": [
    {
     "data": {
      "text/plain": [
       "(0.8209632846427162, 0.8236455146550873)"
      ]
     },
     "execution_count": 42,
     "metadata": {},
     "output_type": "execute_result"
    }
   ],
   "source": [
    "rf_tuned.score(x_train, y_train), rf_tuned.score(x_val, y_val)"
   ]
  },
  {
   "cell_type": "code",
   "execution_count": 43,
   "metadata": {},
   "outputs": [
    {
     "data": {
      "text/plain": [
       "0.8261127010756932"
      ]
     },
     "execution_count": 43,
     "metadata": {},
     "output_type": "execute_result"
    }
   ],
   "source": [
    "rf_tuned.score(x_test, y_test)"
   ]
  },
  {
   "cell_type": "code",
   "execution_count": 44,
   "metadata": {},
   "outputs": [],
   "source": [
    "predictions_1 = rf_tuned.predict(x_test)"
   ]
  },
  {
   "cell_type": "code",
   "execution_count": 45,
   "metadata": {},
   "outputs": [
    {
     "data": {
      "text/plain": [
       "array([[0.82383937, 0.17616063],\n",
       "       [0.82383937, 0.17616063],\n",
       "       [0.8530688 , 0.1469312 ],\n",
       "       ...,\n",
       "       [0.88254974, 0.11745026],\n",
       "       [0.79872398, 0.20127602],\n",
       "       [0.88254974, 0.11745026]])"
      ]
     },
     "execution_count": 45,
     "metadata": {},
     "output_type": "execute_result"
    }
   ],
   "source": [
    "probability = rf_tuned.predict_proba(x_train)\n",
    "probability"
   ]
  },
  {
   "cell_type": "code",
   "execution_count": 46,
   "metadata": {},
   "outputs": [
    {
     "data": {
      "text/plain": [
       "array([[0.74453199, 0.25546801],\n",
       "       [0.83235629, 0.16764371],\n",
       "       [0.88254974, 0.11745026],\n",
       "       ...,\n",
       "       [0.77280966, 0.22719034],\n",
       "       [0.80203909, 0.19796091],\n",
       "       [0.74289048, 0.25710952]])"
      ]
     },
     "execution_count": 46,
     "metadata": {},
     "output_type": "execute_result"
    }
   ],
   "source": [
    "probability = rf_tuned.predict_proba(x_test)\n",
    "probability"
   ]
  },
  {
   "cell_type": "code",
   "execution_count": 47,
   "metadata": {},
   "outputs": [
    {
     "name": "stdout",
     "output_type": "stream",
     "text": [
      "Accuracy = 82.611%\n"
     ]
    }
   ],
   "source": [
    "\n",
    "\n",
    "accuracy = accuracy_score(y_test, predictions_1)\n",
    "print('Accuracy = {:.3f}%' .format(accuracy*100))"
   ]
  },
  {
   "cell_type": "code",
   "execution_count": 48,
   "metadata": {},
   "outputs": [
    {
     "name": "stdout",
     "output_type": "stream",
     "text": [
      "Customer likley to respond: 99.32%\n",
      "Customer not likely to respond:  12.33%\n"
     ]
    }
   ],
   "source": [
    "confusion = confusion_matrix(y_test, predictions_1)\n",
    "score = confusion.diagonal() / confusion.sum(axis =1) *100\n",
    "print('Customer likley to respond: {:.2f}%' .format(score[0]))\n",
    "print('Customer not likely to respond:  {:.2f}%' .format(score[1]))"
   ]
  },
  {
   "cell_type": "code",
   "execution_count": 49,
   "metadata": {},
   "outputs": [
    {
     "data": {
      "text/plain": [
       "<AxesSubplot:>"
      ]
     },
     "execution_count": 49,
     "metadata": {},
     "output_type": "execute_result"
    },
    {
     "data": {
      "image/png": "[encoded data removed]",
      "text/plain": [
       "<Figure size 720x432 with 2 Axes>"
      ]
     },
     "metadata": {},
     "output_type": "display_data"
    }
   ],
   "source": [
    "sns.heatmap(confusion/np.sum(confusion), annot=True, fmt='.2%', cmap='Blues')"
   ]
  },
  {
   "cell_type": "code",
   "execution_count": 50,
   "metadata": {},
   "outputs": [
    {
     "name": "stdout",
     "output_type": "stream",
     "text": [
      "              precision    recall  f1-score   support\n",
      "\n",
      "           0       0.83      0.99      0.90      8187\n",
      "           1       0.81      0.12      0.21      1946\n",
      "\n",
      "    accuracy                           0.83     10133\n",
      "   macro avg       0.82      0.56      0.56     10133\n",
      "weighted avg       0.82      0.83      0.77     10133\n",
      "\n"
     ]
    }
   ],
   "source": [
    "print(classification_report(y_test, predictions_1))"
   ]
  },
  {
   "cell_type": "code",
   "execution_count": null,
   "metadata": {},
   "outputs": [],
   "source": []
  }
 ],
 "metadata": {
  "interpreter": {
   "hash": "13f38cf28d818ed05ed31d9d4f5b20000160d246f2c83cb873de1fcaec656d23"
  },
  "kernelspec": {
   "display_name": "Python 3.9.7 64-bit (windows store)",
   "name": "python3"
  },
  "language_info": {
   "codemirror_mode": {
    "name": "ipython",
    "version": 3
   },
   "file_extension": ".py",
   "mimetype": "text/x-python",
   "name": "python",
   "nbconvert_exporter": "python",
   "pygments_lexer": "ipython3",
   "version": "3.9.10"
  },
  "orig_nbformat": 4
 },
 "nbformat": 4,
 "nbformat_minor": 2
}
