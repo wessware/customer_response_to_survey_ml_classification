{
 "cells": [
  {
   "cell_type": "code",
   "execution_count": 1,
   "metadata": {},
   "outputs": [],
   "source": [
    "import pandas as pd \n",
    "import numpy as np \n",
    "from sklearn.model_selection import train_test_split\n",
    "from sklearn.metrics import mean_absolute_error, mean_squared_error, mean_absolute_percentage_error\n",
    "from sklearn.preprocessing import StandardScaler\n",
    "\n",
    "from sklearn.ensemble import RandomForestRegressor\n",
    "from sklearn.linear_model import LinearRegression\n",
    "from xgboost import XGBRFRegressor\n",
    "from prettytable import PrettyTable"
   ]
  },
  {
   "cell_type": "code",
   "execution_count": 2,
   "metadata": {},
   "outputs": [],
   "source": [
    "customer_df = pd.read_csv('../dataset/customer_classification_clean_data.csv')"
   ]
  },
  {
   "cell_type": "code",
   "execution_count": 3,
   "metadata": {},
   "outputs": [
    {
     "data": {
      "text/html": [
       "<div>\n",
       "<style scoped>\n",
       "    .dataframe tbody tr th:only-of-type {\n",
       "        vertical-align: middle;\n",
       "    }\n",
       "\n",
       "    .dataframe tbody tr th {\n",
       "        vertical-align: top;\n",
       "    }\n",
       "\n",
       "    .dataframe thead th {\n",
       "        text-align: right;\n",
       "    }\n",
       "</style>\n",
       "<table border=\"1\" class=\"dataframe\">\n",
       "  <thead>\n",
       "    <tr style=\"text-align: right;\">\n",
       "      <th></th>\n",
       "      <th>age</th>\n",
       "      <th>current_balance</th>\n",
       "      <th>conn_tr</th>\n",
       "      <th>this_campaign</th>\n",
       "      <th>days_since_last_contact_previous_campaign</th>\n",
       "      <th>contacted_during_previous_campaign</th>\n",
       "      <th>job_admin.</th>\n",
       "      <th>job_blue-collar</th>\n",
       "      <th>job_entrepreneur</th>\n",
       "      <th>job_housemaid</th>\n",
       "      <th>...</th>\n",
       "      <th>has_tv_package_yes</th>\n",
       "      <th>last_contact_cell</th>\n",
       "      <th>last_contact_cellular</th>\n",
       "      <th>last_contact_telephone</th>\n",
       "      <th>last_contact_unknown</th>\n",
       "      <th>outcome_previous_campaign_failure</th>\n",
       "      <th>outcome_previous_campaign_other</th>\n",
       "      <th>outcome_previous_campaign_success</th>\n",
       "      <th>outcome_previous_campaign_unknown</th>\n",
       "      <th>new_contract_this_campaign</th>\n",
       "    </tr>\n",
       "  </thead>\n",
       "  <tbody>\n",
       "    <tr>\n",
       "      <th>0</th>\n",
       "      <td>39</td>\n",
       "      <td>-1.90</td>\n",
       "      <td>4</td>\n",
       "      <td>8</td>\n",
       "      <td>-1</td>\n",
       "      <td>0</td>\n",
       "      <td>0</td>\n",
       "      <td>0</td>\n",
       "      <td>0</td>\n",
       "      <td>0</td>\n",
       "      <td>...</td>\n",
       "      <td>1</td>\n",
       "      <td>0</td>\n",
       "      <td>0</td>\n",
       "      <td>0</td>\n",
       "      <td>1</td>\n",
       "      <td>0</td>\n",
       "      <td>0</td>\n",
       "      <td>0</td>\n",
       "      <td>1</td>\n",
       "      <td>1</td>\n",
       "    </tr>\n",
       "    <tr>\n",
       "      <th>1</th>\n",
       "      <td>53</td>\n",
       "      <td>3.62</td>\n",
       "      <td>1</td>\n",
       "      <td>2</td>\n",
       "      <td>-1</td>\n",
       "      <td>0</td>\n",
       "      <td>0</td>\n",
       "      <td>0</td>\n",
       "      <td>0</td>\n",
       "      <td>1</td>\n",
       "      <td>...</td>\n",
       "      <td>0</td>\n",
       "      <td>0</td>\n",
       "      <td>1</td>\n",
       "      <td>0</td>\n",
       "      <td>0</td>\n",
       "      <td>0</td>\n",
       "      <td>0</td>\n",
       "      <td>0</td>\n",
       "      <td>1</td>\n",
       "      <td>1</td>\n",
       "    </tr>\n",
       "    <tr>\n",
       "      <th>2</th>\n",
       "      <td>79</td>\n",
       "      <td>27.87</td>\n",
       "      <td>3</td>\n",
       "      <td>1</td>\n",
       "      <td>377</td>\n",
       "      <td>1</td>\n",
       "      <td>0</td>\n",
       "      <td>0</td>\n",
       "      <td>0</td>\n",
       "      <td>0</td>\n",
       "      <td>...</td>\n",
       "      <td>0</td>\n",
       "      <td>0</td>\n",
       "      <td>0</td>\n",
       "      <td>1</td>\n",
       "      <td>0</td>\n",
       "      <td>0</td>\n",
       "      <td>0</td>\n",
       "      <td>1</td>\n",
       "      <td>0</td>\n",
       "      <td>1</td>\n",
       "    </tr>\n",
       "    <tr>\n",
       "      <th>3</th>\n",
       "      <td>43</td>\n",
       "      <td>5.50</td>\n",
       "      <td>3</td>\n",
       "      <td>2</td>\n",
       "      <td>-1</td>\n",
       "      <td>0</td>\n",
       "      <td>0</td>\n",
       "      <td>0</td>\n",
       "      <td>0</td>\n",
       "      <td>0</td>\n",
       "      <td>...</td>\n",
       "      <td>0</td>\n",
       "      <td>0</td>\n",
       "      <td>1</td>\n",
       "      <td>0</td>\n",
       "      <td>0</td>\n",
       "      <td>0</td>\n",
       "      <td>0</td>\n",
       "      <td>0</td>\n",
       "      <td>1</td>\n",
       "      <td>0</td>\n",
       "    </tr>\n",
       "    <tr>\n",
       "      <th>4</th>\n",
       "      <td>35</td>\n",
       "      <td>3.44</td>\n",
       "      <td>2</td>\n",
       "      <td>16</td>\n",
       "      <td>-1</td>\n",
       "      <td>0</td>\n",
       "      <td>0</td>\n",
       "      <td>0</td>\n",
       "      <td>0</td>\n",
       "      <td>0</td>\n",
       "      <td>...</td>\n",
       "      <td>0</td>\n",
       "      <td>0</td>\n",
       "      <td>1</td>\n",
       "      <td>0</td>\n",
       "      <td>0</td>\n",
       "      <td>0</td>\n",
       "      <td>0</td>\n",
       "      <td>0</td>\n",
       "      <td>1</td>\n",
       "      <td>1</td>\n",
       "    </tr>\n",
       "  </tbody>\n",
       "</table>\n",
       "<p>5 rows × 41 columns</p>\n",
       "</div>"
      ],
      "text/plain": [
       "   age  current_balance  conn_tr  this_campaign  \\\n",
       "0   39            -1.90        4              8   \n",
       "1   53             3.62        1              2   \n",
       "2   79            27.87        3              1   \n",
       "3   43             5.50        3              2   \n",
       "4   35             3.44        2             16   \n",
       "\n",
       "   days_since_last_contact_previous_campaign  \\\n",
       "0                                         -1   \n",
       "1                                         -1   \n",
       "2                                        377   \n",
       "3                                         -1   \n",
       "4                                         -1   \n",
       "\n",
       "   contacted_during_previous_campaign  job_admin.  job_blue-collar  \\\n",
       "0                                   0           0                0   \n",
       "1                                   0           0                0   \n",
       "2                                   1           0                0   \n",
       "3                                   0           0                0   \n",
       "4                                   0           0                0   \n",
       "\n",
       "   job_entrepreneur  job_housemaid  ...  has_tv_package_yes  \\\n",
       "0                 0              0  ...                   1   \n",
       "1                 0              1  ...                   0   \n",
       "2                 0              0  ...                   0   \n",
       "3                 0              0  ...                   0   \n",
       "4                 0              0  ...                   0   \n",
       "\n",
       "   last_contact_cell  last_contact_cellular  last_contact_telephone  \\\n",
       "0                  0                      0                       0   \n",
       "1                  0                      1                       0   \n",
       "2                  0                      0                       1   \n",
       "3                  0                      1                       0   \n",
       "4                  0                      1                       0   \n",
       "\n",
       "   last_contact_unknown  outcome_previous_campaign_failure  \\\n",
       "0                     1                                  0   \n",
       "1                     0                                  0   \n",
       "2                     0                                  0   \n",
       "3                     0                                  0   \n",
       "4                     0                                  0   \n",
       "\n",
       "   outcome_previous_campaign_other  outcome_previous_campaign_success  \\\n",
       "0                                0                                  0   \n",
       "1                                0                                  0   \n",
       "2                                0                                  1   \n",
       "3                                0                                  0   \n",
       "4                                0                                  0   \n",
       "\n",
       "   outcome_previous_campaign_unknown  new_contract_this_campaign  \n",
       "0                                  1                           1  \n",
       "1                                  1                           1  \n",
       "2                                  0                           1  \n",
       "3                                  1                           0  \n",
       "4                                  1                           1  \n",
       "\n",
       "[5 rows x 41 columns]"
      ]
     },
     "execution_count": 3,
     "metadata": {},
     "output_type": "execute_result"
    }
   ],
   "source": [
    "customer_df.head()"
   ]
  },
  {
   "cell_type": "code",
   "execution_count": 4,
   "metadata": {},
   "outputs": [
    {
     "data": {
      "text/plain": [
       "False"
      ]
     },
     "execution_count": 4,
     "metadata": {},
     "output_type": "execute_result"
    }
   ],
   "source": [
    "customer_df.isnull().values.any()"
   ]
  },
  {
   "cell_type": "code",
   "execution_count": 5,
   "metadata": {},
   "outputs": [
    {
     "data": {
      "text/plain": [
       "0"
      ]
     },
     "execution_count": 5,
     "metadata": {},
     "output_type": "execute_result"
    }
   ],
   "source": [
    "customer_df.isnull().sum().sum()"
   ]
  },
  {
   "cell_type": "code",
   "execution_count": 6,
   "metadata": {},
   "outputs": [
    {
     "data": {
      "text/plain": [
       "age                                            int64\n",
       "current_balance                              float64\n",
       "conn_tr                                        int64\n",
       "this_campaign                                  int64\n",
       "days_since_last_contact_previous_campaign      int64\n",
       "contacted_during_previous_campaign             int64\n",
       "job_admin.                                     int64\n",
       "job_blue-collar                                int64\n",
       "job_entrepreneur                               int64\n",
       "job_housemaid                                  int64\n",
       "job_management                                 int64\n",
       "job_retired                                    int64\n",
       "job_self-employed                              int64\n",
       "job_services                                   int64\n",
       "job_student                                    int64\n",
       "job_technician                                 int64\n",
       "job_unemployed                                 int64\n",
       "job_unknown                                    int64\n",
       "married_divorced                               int64\n",
       "married_married                                int64\n",
       "married_single                                 int64\n",
       "education_primary                              int64\n",
       "education_secondary                            int64\n",
       "education_tertiary                             int64\n",
       "education_unknown                              int64\n",
       "arrears_no                                     int64\n",
       "arrears_yes                                    int64\n",
       "housing_no                                     int64\n",
       "housing_yes                                    int64\n",
       "has_tv_package_n                               int64\n",
       "has_tv_package_no                              int64\n",
       "has_tv_package_yes                             int64\n",
       "last_contact_cell                              int64\n",
       "last_contact_cellular                          int64\n",
       "last_contact_telephone                         int64\n",
       "last_contact_unknown                           int64\n",
       "outcome_previous_campaign_failure              int64\n",
       "outcome_previous_campaign_other                int64\n",
       "outcome_previous_campaign_success              int64\n",
       "outcome_previous_campaign_unknown              int64\n",
       "new_contract_this_campaign                     int64\n",
       "dtype: object"
      ]
     },
     "execution_count": 6,
     "metadata": {},
     "output_type": "execute_result"
    }
   ],
   "source": [
    "customer_df.dtypes"
   ]
  },
  {
   "cell_type": "code",
   "execution_count": 8,
   "metadata": {},
   "outputs": [],
   "source": [
    "\n",
    "x = customer_df.drop(columns='new_contract_this_campaign')\n",
    "y = customer_df['new_contract_this_campaign']"
   ]
  },
  {
   "cell_type": "code",
   "execution_count": 9,
   "metadata": {},
   "outputs": [],
   "source": [
    "x_train, x_test, y_train, y_test = train_test_split(x, y, test_size=0.2, random_state=25)"
   ]
  },
  {
   "cell_type": "code",
   "execution_count": 10,
   "metadata": {},
   "outputs": [],
   "source": [
    "scaler = StandardScaler()\n",
    "\n",
    "X_train_scale = scaler.fit_transform(x_train)\n",
    "X_test_scale = scaler.fit_transform(x_test)"
   ]
  },
  {
   "cell_type": "code",
   "execution_count": 14,
   "metadata": {},
   "outputs": [],
   "source": [
    "def auto_train (x,y, model_alg):\n",
    "    if model_alg == 'lr':\n",
    "        model = LinearRegression()\n",
    "    elif model_alg == 'xgb':\n",
    "        model = XGBRFRegressor()\n",
    "    elif model_alg == 'rfr':\n",
    "        model = RandomForestRegressor()\n",
    "       \n",
    "    model.fit(X_train_scale, y_train)\n",
    "    \n",
    "    return model"
   ]
  },
  {
   "cell_type": "code",
   "execution_count": 18,
   "metadata": {},
   "outputs": [],
   "source": [
    "def auto_evaluate(model, x, y):\n",
    "    predictions = model.predict(x)\n",
    "    \n",
    "    mse = mean_squared_error(y, predictions)\n",
    "    mae = mean_absolute_error(y, predictions)\n",
    "    mape = mean_absolute_percentage_error(y, predictions)\n",
    "    \n",
    "    mse = round(mse, 2)\n",
    "    mae = round(mae, 2)\n",
    "    mape = round(mape, 2)\n",
    "    \n",
    "    return [mse, mae, mape]"
   ]
  },
  {
   "cell_type": "code",
   "execution_count": 19,
   "metadata": {},
   "outputs": [],
   "source": [
    "linear = auto_train(X_train_scale, y_train, 'lr')\n",
    "xgboost = auto_train(X_train_scale, y_train, 'xgb')\n",
    "random_forest_reg = auto_train(X_train_scale, y_train, 'rfr')"
   ]
  },
  {
   "cell_type": "code",
   "execution_count": 20,
   "metadata": {},
   "outputs": [
    {
     "data": {
      "text/plain": [
       "[2.0592325988839787e+21, 32896207607.95, 1.1810046716942724e+26]"
      ]
     },
     "execution_count": 20,
     "metadata": {},
     "output_type": "execute_result"
    }
   ],
   "source": [
    "linear_evaluate = auto_evaluate(linear, X_test_scale, y_test)\n",
    "linear_evaluate"
   ]
  },
  {
   "cell_type": "code",
   "execution_count": 21,
   "metadata": {},
   "outputs": [
    {
     "data": {
      "text/plain": [
       "[0.13, 0.26, 584142266728134.4]"
      ]
     },
     "execution_count": 21,
     "metadata": {},
     "output_type": "execute_result"
    }
   ],
   "source": [
    "xg_evaluate = auto_evaluate(xgboost, X_test_scale, y_test)\n",
    "xg_evaluate"
   ]
  },
  {
   "cell_type": "code",
   "execution_count": 22,
   "metadata": {},
   "outputs": [
    {
     "data": {
      "text/plain": [
       "[0.1, 0.21, 530372026151080.56]"
      ]
     },
     "execution_count": 22,
     "metadata": {},
     "output_type": "execute_result"
    }
   ],
   "source": [
    "forest_evalaute = auto_evaluate(random_forest_reg, X_test_scale, y_test)\n",
    "forest_evalaute"
   ]
  },
  {
   "cell_type": "code",
   "execution_count": 23,
   "metadata": {},
   "outputs": [
    {
     "name": "stdout",
     "output_type": "stream",
     "text": [
      "+-------+------------------------+----------------+------------------------+\n",
      "| Model |          MSE           |      MAE       |          MAPE          |\n",
      "+-------+------------------------+----------------+------------------------+\n",
      "|   LR  | 2.0592325988839787e+21 | 32896207607.95 | 1.1810046716942724e+26 |\n",
      "|  XGB  |          0.13          |      0.26      |   584142266728134.4    |\n",
      "|  RFR  |          0.1           |      0.21      |   530372026151080.56   |\n",
      "+-------+------------------------+----------------+------------------------+\n"
     ]
    }
   ],
   "source": [
    "summary = PrettyTable(['Model', 'MSE', 'MAE', 'MAPE'])\n",
    "\n",
    "summary.add_row(['LR'] + auto_evaluate(linear, X_test_scale, y_test))\n",
    "summary.add_row(['XGB'] + auto_evaluate(xgboost, X_test_scale, y_test))\n",
    "summary.add_row(['RFR'] + auto_evaluate(random_forest_reg, X_test_scale, y_test))\n",
    "\n",
    "print(summary)"
   ]
  },
  {
   "cell_type": "code",
   "execution_count": 24,
   "metadata": {},
   "outputs": [
    {
     "name": "stderr",
     "output_type": "stream",
     "text": [
      "<ipython-input-24-0e8a3c4c2d74>:1: RuntimeWarning: overflow encountered in exp\n",
      "  predict_1 = np.exp(linear.predict(X_test_scale))\n"
     ]
    }
   ],
   "source": [
    "predict_1 = np.exp(linear.predict(X_test_scale))"
   ]
  },
  {
   "cell_type": "code",
   "execution_count": 25,
   "metadata": {},
   "outputs": [],
   "source": [
    "predict = np.exp(random_forest_reg.predict(X_test_scale))"
   ]
  },
  {
   "cell_type": "code",
   "execution_count": 26,
   "metadata": {},
   "outputs": [],
   "source": [
    "observes = 20\n",
    "\n",
    "x_ax = range(len(y_test[:observes]))"
   ]
  },
  {
   "cell_type": "code",
   "execution_count": 28,
   "metadata": {},
   "outputs": [
    {
     "data": {
      "image/png": "[encoded data removed]",
      "text/plain": [
       "<Figure size 1440x720 with 1 Axes>"
      ]
     },
     "metadata": {
      "needs_background": "light"
     },
     "output_type": "display_data"
    }
   ],
   "source": [
    "import matplotlib.pyplot as plt\n",
    "plt.figure(figsize=(20,10))\n",
    "\n",
    "plt.plot(x_ax, y_test[:observes], label='True')\n",
    "plt.plot(x_ax, predict[:observes], label='predicted')\n",
    "plt.title(\"Predicted chance of Customer Response to Campaign\")\n",
    "plt.xlabel('NUmber of cases')\n",
    "plt.ylabel('Likelihood')\n",
    "plt.xticks(np.arange(observes))\n",
    "plt.legend()\n",
    "plt.grid()\n",
    "plt.show()"
   ]
  },
  {
   "cell_type": "code",
   "execution_count": null,
   "metadata": {},
   "outputs": [],
   "source": []
  }
 ],
 "metadata": {
  "interpreter": {
   "hash": "13f38cf28d818ed05ed31d9d4f5b20000160d246f2c83cb873de1fcaec656d23"
  },
  "kernelspec": {
   "display_name": "Python 3.9.7 64-bit (windows store)",
   "name": "python3"
  },
  "language_info": {
   "codemirror_mode": {
    "name": "ipython",
    "version": 3
   },
   "file_extension": ".py",
   "mimetype": "text/x-python",
   "name": "python",
   "nbconvert_exporter": "python",
   "pygments_lexer": "ipython3",
   "version": "3.9.10"
  },
  "orig_nbformat": 4
 },
 "nbformat": 4,
 "nbformat_minor": 2
}
