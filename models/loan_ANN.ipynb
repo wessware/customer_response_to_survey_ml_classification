{
 "cells": [
  {
   "cell_type": "markdown",
   "metadata": {},
   "source": [
    "Import what will be needed for the exercise"
   ]
  },
  {
   "cell_type": "code",
   "execution_count": 1,
   "metadata": {},
   "outputs": [],
   "source": [
    "import numpy as np\n",
    "import pandas as pd\n",
    "import matplotlib\n",
    "import matplotlib.pyplot as plt \n",
    "import math\n",
    "from sklearn.preprocessing import StandardScaler\n",
    "from sklearn.model_selection import train_test_split\n",
    "from sklearn.metrics import mean_absolute_error\n",
    "from sklearn.metrics import mean_squared_error\n",
    "from sklearn.preprocessing import MinMaxScaler\n",
    "import seaborn as sns \n",
    "from numpy.random import seed\n",
    "import tensorflow\n",
    "tensorflow.random.set_seed(1)\n",
    "from tensorflow.python.keras.layers import Dense\n",
    "from tensorflow.keras.layers import Dropout\n",
    "from tensorflow.python.keras.models import Sequential\n",
    "from tensorflow.python.keras import regularizers\n",
    "from tensorflow.python.keras import metrics\n",
    "from tensorflow.keras.models import load_model"
   ]
  },
  {
   "cell_type": "code",
   "execution_count": 2,
   "metadata": {},
   "outputs": [],
   "source": [
    "sns.set_style('darkgrid')\n",
    "matplotlib.rcParams['font.size'] = 14\n",
    "matplotlib.rcParams['figure.figsize'] = (10, 6)\n",
    "matplotlib.rcParams['figure.facecolor'] = '#000000'"
   ]
  },
  {
   "cell_type": "code",
   "execution_count": 3,
   "metadata": {},
   "outputs": [],
   "source": [
    "#load the dataset\n",
    "customer = pd.read_csv('../dataset/customer_classification_clean_data.csv')"
   ]
  },
  {
   "cell_type": "code",
   "execution_count": 4,
   "metadata": {},
   "outputs": [
    {
     "data": {
      "text/html": [
       "<div>\n",
       "<style scoped>\n",
       "    .dataframe tbody tr th:only-of-type {\n",
       "        vertical-align: middle;\n",
       "    }\n",
       "\n",
       "    .dataframe tbody tr th {\n",
       "        vertical-align: top;\n",
       "    }\n",
       "\n",
       "    .dataframe thead th {\n",
       "        text-align: right;\n",
       "    }\n",
       "</style>\n",
       "<table border=\"1\" class=\"dataframe\">\n",
       "  <thead>\n",
       "    <tr style=\"text-align: right;\">\n",
       "      <th></th>\n",
       "      <th>age</th>\n",
       "      <th>current_balance</th>\n",
       "      <th>conn_tr</th>\n",
       "      <th>this_campaign</th>\n",
       "      <th>days_since_last_contact_previous_campaign</th>\n",
       "      <th>contacted_during_previous_campaign</th>\n",
       "      <th>job_admin.</th>\n",
       "      <th>job_blue-collar</th>\n",
       "      <th>job_entrepreneur</th>\n",
       "      <th>job_housemaid</th>\n",
       "      <th>...</th>\n",
       "      <th>has_tv_package_yes</th>\n",
       "      <th>last_contact_cell</th>\n",
       "      <th>last_contact_cellular</th>\n",
       "      <th>last_contact_telephone</th>\n",
       "      <th>last_contact_unknown</th>\n",
       "      <th>outcome_previous_campaign_failure</th>\n",
       "      <th>outcome_previous_campaign_other</th>\n",
       "      <th>outcome_previous_campaign_success</th>\n",
       "      <th>outcome_previous_campaign_unknown</th>\n",
       "      <th>new_contract_this_campaign</th>\n",
       "    </tr>\n",
       "  </thead>\n",
       "  <tbody>\n",
       "    <tr>\n",
       "      <th>0</th>\n",
       "      <td>39</td>\n",
       "      <td>-1.90</td>\n",
       "      <td>4</td>\n",
       "      <td>8</td>\n",
       "      <td>-1</td>\n",
       "      <td>0</td>\n",
       "      <td>0</td>\n",
       "      <td>0</td>\n",
       "      <td>0</td>\n",
       "      <td>0</td>\n",
       "      <td>...</td>\n",
       "      <td>1</td>\n",
       "      <td>0</td>\n",
       "      <td>0</td>\n",
       "      <td>0</td>\n",
       "      <td>1</td>\n",
       "      <td>0</td>\n",
       "      <td>0</td>\n",
       "      <td>0</td>\n",
       "      <td>1</td>\n",
       "      <td>1</td>\n",
       "    </tr>\n",
       "    <tr>\n",
       "      <th>1</th>\n",
       "      <td>53</td>\n",
       "      <td>3.62</td>\n",
       "      <td>1</td>\n",
       "      <td>2</td>\n",
       "      <td>-1</td>\n",
       "      <td>0</td>\n",
       "      <td>0</td>\n",
       "      <td>0</td>\n",
       "      <td>0</td>\n",
       "      <td>1</td>\n",
       "      <td>...</td>\n",
       "      <td>0</td>\n",
       "      <td>0</td>\n",
       "      <td>1</td>\n",
       "      <td>0</td>\n",
       "      <td>0</td>\n",
       "      <td>0</td>\n",
       "      <td>0</td>\n",
       "      <td>0</td>\n",
       "      <td>1</td>\n",
       "      <td>1</td>\n",
       "    </tr>\n",
       "    <tr>\n",
       "      <th>2</th>\n",
       "      <td>79</td>\n",
       "      <td>27.87</td>\n",
       "      <td>3</td>\n",
       "      <td>1</td>\n",
       "      <td>377</td>\n",
       "      <td>1</td>\n",
       "      <td>0</td>\n",
       "      <td>0</td>\n",
       "      <td>0</td>\n",
       "      <td>0</td>\n",
       "      <td>...</td>\n",
       "      <td>0</td>\n",
       "      <td>0</td>\n",
       "      <td>0</td>\n",
       "      <td>1</td>\n",
       "      <td>0</td>\n",
       "      <td>0</td>\n",
       "      <td>0</td>\n",
       "      <td>1</td>\n",
       "      <td>0</td>\n",
       "      <td>1</td>\n",
       "    </tr>\n",
       "    <tr>\n",
       "      <th>3</th>\n",
       "      <td>43</td>\n",
       "      <td>5.50</td>\n",
       "      <td>3</td>\n",
       "      <td>2</td>\n",
       "      <td>-1</td>\n",
       "      <td>0</td>\n",
       "      <td>0</td>\n",
       "      <td>0</td>\n",
       "      <td>0</td>\n",
       "      <td>0</td>\n",
       "      <td>...</td>\n",
       "      <td>0</td>\n",
       "      <td>0</td>\n",
       "      <td>1</td>\n",
       "      <td>0</td>\n",
       "      <td>0</td>\n",
       "      <td>0</td>\n",
       "      <td>0</td>\n",
       "      <td>0</td>\n",
       "      <td>1</td>\n",
       "      <td>0</td>\n",
       "    </tr>\n",
       "    <tr>\n",
       "      <th>4</th>\n",
       "      <td>35</td>\n",
       "      <td>3.44</td>\n",
       "      <td>2</td>\n",
       "      <td>16</td>\n",
       "      <td>-1</td>\n",
       "      <td>0</td>\n",
       "      <td>0</td>\n",
       "      <td>0</td>\n",
       "      <td>0</td>\n",
       "      <td>0</td>\n",
       "      <td>...</td>\n",
       "      <td>0</td>\n",
       "      <td>0</td>\n",
       "      <td>1</td>\n",
       "      <td>0</td>\n",
       "      <td>0</td>\n",
       "      <td>0</td>\n",
       "      <td>0</td>\n",
       "      <td>0</td>\n",
       "      <td>1</td>\n",
       "      <td>1</td>\n",
       "    </tr>\n",
       "    <tr>\n",
       "      <th>...</th>\n",
       "      <td>...</td>\n",
       "      <td>...</td>\n",
       "      <td>...</td>\n",
       "      <td>...</td>\n",
       "      <td>...</td>\n",
       "      <td>...</td>\n",
       "      <td>...</td>\n",
       "      <td>...</td>\n",
       "      <td>...</td>\n",
       "      <td>...</td>\n",
       "      <td>...</td>\n",
       "      <td>...</td>\n",
       "      <td>...</td>\n",
       "      <td>...</td>\n",
       "      <td>...</td>\n",
       "      <td>...</td>\n",
       "      <td>...</td>\n",
       "      <td>...</td>\n",
       "      <td>...</td>\n",
       "      <td>...</td>\n",
       "      <td>...</td>\n",
       "    </tr>\n",
       "    <tr>\n",
       "      <th>50657</th>\n",
       "      <td>31</td>\n",
       "      <td>4.99</td>\n",
       "      <td>3</td>\n",
       "      <td>2</td>\n",
       "      <td>-1</td>\n",
       "      <td>0</td>\n",
       "      <td>0</td>\n",
       "      <td>0</td>\n",
       "      <td>0</td>\n",
       "      <td>0</td>\n",
       "      <td>...</td>\n",
       "      <td>0</td>\n",
       "      <td>0</td>\n",
       "      <td>0</td>\n",
       "      <td>0</td>\n",
       "      <td>1</td>\n",
       "      <td>0</td>\n",
       "      <td>0</td>\n",
       "      <td>0</td>\n",
       "      <td>1</td>\n",
       "      <td>0</td>\n",
       "    </tr>\n",
       "    <tr>\n",
       "      <th>50658</th>\n",
       "      <td>31</td>\n",
       "      <td>6.65</td>\n",
       "      <td>1</td>\n",
       "      <td>1</td>\n",
       "      <td>-1</td>\n",
       "      <td>0</td>\n",
       "      <td>0</td>\n",
       "      <td>0</td>\n",
       "      <td>0</td>\n",
       "      <td>0</td>\n",
       "      <td>...</td>\n",
       "      <td>0</td>\n",
       "      <td>0</td>\n",
       "      <td>1</td>\n",
       "      <td>0</td>\n",
       "      <td>0</td>\n",
       "      <td>0</td>\n",
       "      <td>0</td>\n",
       "      <td>0</td>\n",
       "      <td>1</td>\n",
       "      <td>0</td>\n",
       "    </tr>\n",
       "    <tr>\n",
       "      <th>50659</th>\n",
       "      <td>60</td>\n",
       "      <td>4.39</td>\n",
       "      <td>4</td>\n",
       "      <td>1</td>\n",
       "      <td>321</td>\n",
       "      <td>1</td>\n",
       "      <td>0</td>\n",
       "      <td>0</td>\n",
       "      <td>0</td>\n",
       "      <td>0</td>\n",
       "      <td>...</td>\n",
       "      <td>1</td>\n",
       "      <td>0</td>\n",
       "      <td>1</td>\n",
       "      <td>0</td>\n",
       "      <td>0</td>\n",
       "      <td>1</td>\n",
       "      <td>0</td>\n",
       "      <td>0</td>\n",
       "      <td>0</td>\n",
       "      <td>1</td>\n",
       "    </tr>\n",
       "    <tr>\n",
       "      <th>50660</th>\n",
       "      <td>32</td>\n",
       "      <td>30.36</td>\n",
       "      <td>5</td>\n",
       "      <td>5</td>\n",
       "      <td>-1</td>\n",
       "      <td>0</td>\n",
       "      <td>0</td>\n",
       "      <td>1</td>\n",
       "      <td>0</td>\n",
       "      <td>0</td>\n",
       "      <td>...</td>\n",
       "      <td>0</td>\n",
       "      <td>0</td>\n",
       "      <td>1</td>\n",
       "      <td>0</td>\n",
       "      <td>0</td>\n",
       "      <td>0</td>\n",
       "      <td>0</td>\n",
       "      <td>0</td>\n",
       "      <td>1</td>\n",
       "      <td>0</td>\n",
       "    </tr>\n",
       "    <tr>\n",
       "      <th>50661</th>\n",
       "      <td>31</td>\n",
       "      <td>1.19</td>\n",
       "      <td>1</td>\n",
       "      <td>1</td>\n",
       "      <td>-1</td>\n",
       "      <td>0</td>\n",
       "      <td>0</td>\n",
       "      <td>0</td>\n",
       "      <td>0</td>\n",
       "      <td>0</td>\n",
       "      <td>...</td>\n",
       "      <td>0</td>\n",
       "      <td>0</td>\n",
       "      <td>1</td>\n",
       "      <td>0</td>\n",
       "      <td>0</td>\n",
       "      <td>0</td>\n",
       "      <td>0</td>\n",
       "      <td>0</td>\n",
       "      <td>1</td>\n",
       "      <td>0</td>\n",
       "    </tr>\n",
       "  </tbody>\n",
       "</table>\n",
       "<p>50662 rows × 41 columns</p>\n",
       "</div>"
      ],
      "text/plain": [
       "       age  current_balance  conn_tr  this_campaign  \\\n",
       "0       39            -1.90        4              8   \n",
       "1       53             3.62        1              2   \n",
       "2       79            27.87        3              1   \n",
       "3       43             5.50        3              2   \n",
       "4       35             3.44        2             16   \n",
       "...    ...              ...      ...            ...   \n",
       "50657   31             4.99        3              2   \n",
       "50658   31             6.65        1              1   \n",
       "50659   60             4.39        4              1   \n",
       "50660   32            30.36        5              5   \n",
       "50661   31             1.19        1              1   \n",
       "\n",
       "       days_since_last_contact_previous_campaign  \\\n",
       "0                                             -1   \n",
       "1                                             -1   \n",
       "2                                            377   \n",
       "3                                             -1   \n",
       "4                                             -1   \n",
       "...                                          ...   \n",
       "50657                                         -1   \n",
       "50658                                         -1   \n",
       "50659                                        321   \n",
       "50660                                         -1   \n",
       "50661                                         -1   \n",
       "\n",
       "       contacted_during_previous_campaign  job_admin.  job_blue-collar  \\\n",
       "0                                       0           0                0   \n",
       "1                                       0           0                0   \n",
       "2                                       1           0                0   \n",
       "3                                       0           0                0   \n",
       "4                                       0           0                0   \n",
       "...                                   ...         ...              ...   \n",
       "50657                                   0           0                0   \n",
       "50658                                   0           0                0   \n",
       "50659                                   1           0                0   \n",
       "50660                                   0           0                1   \n",
       "50661                                   0           0                0   \n",
       "\n",
       "       job_entrepreneur  job_housemaid  ...  has_tv_package_yes  \\\n",
       "0                     0              0  ...                   1   \n",
       "1                     0              1  ...                   0   \n",
       "2                     0              0  ...                   0   \n",
       "3                     0              0  ...                   0   \n",
       "4                     0              0  ...                   0   \n",
       "...                 ...            ...  ...                 ...   \n",
       "50657                 0              0  ...                   0   \n",
       "50658                 0              0  ...                   0   \n",
       "50659                 0              0  ...                   1   \n",
       "50660                 0              0  ...                   0   \n",
       "50661                 0              0  ...                   0   \n",
       "\n",
       "       last_contact_cell  last_contact_cellular  last_contact_telephone  \\\n",
       "0                      0                      0                       0   \n",
       "1                      0                      1                       0   \n",
       "2                      0                      0                       1   \n",
       "3                      0                      1                       0   \n",
       "4                      0                      1                       0   \n",
       "...                  ...                    ...                     ...   \n",
       "50657                  0                      0                       0   \n",
       "50658                  0                      1                       0   \n",
       "50659                  0                      1                       0   \n",
       "50660                  0                      1                       0   \n",
       "50661                  0                      1                       0   \n",
       "\n",
       "       last_contact_unknown  outcome_previous_campaign_failure  \\\n",
       "0                         1                                  0   \n",
       "1                         0                                  0   \n",
       "2                         0                                  0   \n",
       "3                         0                                  0   \n",
       "4                         0                                  0   \n",
       "...                     ...                                ...   \n",
       "50657                     1                                  0   \n",
       "50658                     0                                  0   \n",
       "50659                     0                                  1   \n",
       "50660                     0                                  0   \n",
       "50661                     0                                  0   \n",
       "\n",
       "       outcome_previous_campaign_other  outcome_previous_campaign_success  \\\n",
       "0                                    0                                  0   \n",
       "1                                    0                                  0   \n",
       "2                                    0                                  1   \n",
       "3                                    0                                  0   \n",
       "4                                    0                                  0   \n",
       "...                                ...                                ...   \n",
       "50657                                0                                  0   \n",
       "50658                                0                                  0   \n",
       "50659                                0                                  0   \n",
       "50660                                0                                  0   \n",
       "50661                                0                                  0   \n",
       "\n",
       "       outcome_previous_campaign_unknown  new_contract_this_campaign  \n",
       "0                                      1                           1  \n",
       "1                                      1                           1  \n",
       "2                                      0                           1  \n",
       "3                                      1                           0  \n",
       "4                                      1                           1  \n",
       "...                                  ...                         ...  \n",
       "50657                                  1                           0  \n",
       "50658                                  1                           0  \n",
       "50659                                  0                           1  \n",
       "50660                                  1                           0  \n",
       "50661                                  1                           0  \n",
       "\n",
       "[50662 rows x 41 columns]"
      ]
     },
     "execution_count": 4,
     "metadata": {},
     "output_type": "execute_result"
    }
   ],
   "source": [
    "customer"
   ]
  },
  {
   "cell_type": "code",
   "execution_count": 5,
   "metadata": {},
   "outputs": [
    {
     "data": {
      "text/plain": [
       "(50662, 41)"
      ]
     },
     "execution_count": 5,
     "metadata": {},
     "output_type": "execute_result"
    }
   ],
   "source": [
    "customer.shape"
   ]
  },
  {
   "cell_type": "markdown",
   "metadata": {},
   "source": [
    "Data Preparation"
   ]
  },
  {
   "cell_type": "code",
   "execution_count": 6,
   "metadata": {},
   "outputs": [],
   "source": [
    "#save the dataset as an array of numerical values\n",
    "customer_df = customer.values"
   ]
  },
  {
   "cell_type": "code",
   "execution_count": 7,
   "metadata": {},
   "outputs": [
    {
     "data": {
      "text/plain": [
       "array([[39.  , -1.9 ,  4.  , ...,  0.  ,  1.  ,  1.  ],\n",
       "       [53.  ,  3.62,  1.  , ...,  0.  ,  1.  ,  1.  ],\n",
       "       [79.  , 27.87,  3.  , ...,  1.  ,  0.  ,  1.  ],\n",
       "       ...,\n",
       "       [60.  ,  4.39,  4.  , ...,  0.  ,  0.  ,  1.  ],\n",
       "       [32.  , 30.36,  5.  , ...,  0.  ,  1.  ,  0.  ],\n",
       "       [31.  ,  1.19,  1.  , ...,  0.  ,  1.  ,  0.  ]])"
      ]
     },
     "execution_count": 7,
     "metadata": {},
     "output_type": "execute_result"
    }
   ],
   "source": [
    "customer_df"
   ]
  },
  {
   "cell_type": "code",
   "execution_count": 8,
   "metadata": {},
   "outputs": [],
   "source": [
    "#Splitting the dataset into categories. The X category (containing 12 columns) will be used to predict the y category (containing 1 column)\n",
    "X = customer_df[:,0:40]"
   ]
  },
  {
   "cell_type": "code",
   "execution_count": 9,
   "metadata": {},
   "outputs": [],
   "source": [
    "y = customer_df[:,40]"
   ]
  },
  {
   "cell_type": "code",
   "execution_count": 10,
   "metadata": {},
   "outputs": [
    {
     "data": {
      "text/plain": [
       "array([1., 1., 1., ..., 1., 0., 0.])"
      ]
     },
     "execution_count": 10,
     "metadata": {},
     "output_type": "execute_result"
    }
   ],
   "source": [
    "y"
   ]
  },
  {
   "cell_type": "code",
   "execution_count": 11,
   "metadata": {},
   "outputs": [
    {
     "data": {
      "text/plain": [
       "array([[39.  , -1.9 ,  4.  , ...,  0.  ,  0.  ,  1.  ],\n",
       "       [53.  ,  3.62,  1.  , ...,  0.  ,  0.  ,  1.  ],\n",
       "       [79.  , 27.87,  3.  , ...,  0.  ,  1.  ,  0.  ],\n",
       "       ...,\n",
       "       [60.  ,  4.39,  4.  , ...,  0.  ,  0.  ,  0.  ],\n",
       "       [32.  , 30.36,  5.  , ...,  0.  ,  0.  ,  1.  ],\n",
       "       [31.  ,  1.19,  1.  , ...,  0.  ,  0.  ,  1.  ]])"
      ]
     },
     "execution_count": 11,
     "metadata": {},
     "output_type": "execute_result"
    }
   ],
   "source": [
    "X"
   ]
  },
  {
   "cell_type": "code",
   "execution_count": 12,
   "metadata": {},
   "outputs": [],
   "source": [
    "#Scaling the dataset's X category columns to a smaller-range numerical values\n",
    "from sklearn.preprocessing import MinMaxScaler\n",
    "\n",
    "scaler = MinMaxScaler()\n",
    "X_scaled = scaler.fit_transform(X)"
   ]
  },
  {
   "cell_type": "code",
   "execution_count": 13,
   "metadata": {},
   "outputs": [],
   "source": [
    "#Split the dataset into training, testing and validation sets. \n",
    "X_train, X_val_and_test, Y_train, Y_val_and_test = train_test_split(X_scaled, y, test_size=0.3)"
   ]
  },
  {
   "cell_type": "code",
   "execution_count": 14,
   "metadata": {},
   "outputs": [],
   "source": [
    "X_val, X_test, Y_val, Y_test = train_test_split(X_val_and_test, Y_val_and_test, test_size=0.5)"
   ]
  },
  {
   "cell_type": "code",
   "execution_count": 15,
   "metadata": {},
   "outputs": [
    {
     "name": "stdout",
     "output_type": "stream",
     "text": [
      "(35463, 40) (7599, 40) (7600, 40) (35463,) (7599,) (7600,)\n"
     ]
    }
   ],
   "source": [
    "print(X_train.shape, X_val.shape, X_test.shape, Y_train.shape, Y_val.shape, Y_test.shape)"
   ]
  },
  {
   "cell_type": "code",
   "execution_count": null,
   "metadata": {},
   "outputs": [],
   "source": []
  },
  {
   "cell_type": "markdown",
   "metadata": {},
   "source": [
    "Building the Artificial Neural Network Model(s)"
   ]
  },
  {
   "cell_type": "code",
   "execution_count": 18,
   "metadata": {},
   "outputs": [
    {
     "name": "stdout",
     "output_type": "stream",
     "text": [
      "Model: \"sequential_1\"\n",
      "_________________________________________________________________\n",
      "Layer (type)                 Output Shape              Param #   \n",
      "=================================================================\n",
      "dense_3 (Dense)              (None, 32)                1312      \n",
      "_________________________________________________________________\n",
      "dense_4 (Dense)              (None, 32)                1056      \n",
      "_________________________________________________________________\n",
      "dense_5 (Dense)              (None, 1)                 33        \n",
      "=================================================================\n",
      "Total params: 2,401\n",
      "Trainable params: 2,401\n",
      "Non-trainable params: 0\n",
      "_________________________________________________________________\n"
     ]
    }
   ],
   "source": [
    "#THE ARCHITECTURE\n",
    "#Defining A two-layer Neural Network each with 32 Neurons using the Rectified Linear Activation Function (ReLu)\n",
    "#Pass onto the model the 12 columns of the X input category. \n",
    "customer_model = Sequential([\n",
    "    Dense(32, activation='relu', input_shape=(40,)),\n",
    "    Dense(32, activation='relu'),\n",
    "    Dense(1, activation='sigmoid'),\n",
    "])\n",
    "customer_model.summary()"
   ]
  },
  {
   "cell_type": "code",
   "execution_count": 19,
   "metadata": {},
   "outputs": [],
   "source": [
    "#OPTIMIZATION ALGORITHM FOR THE MODEL, MODEL LOSS FUNCTION, AND LOSS FUNCTION TRACKING METRIC\n",
    "customer_model.compile(optimizer='sgd', loss='binary_crossentropy', metrics=['accuracy'])\n",
    "predictions = customer_model.predict(X_val)"
   ]
  },
  {
   "cell_type": "code",
   "execution_count": 20,
   "metadata": {},
   "outputs": [
    {
     "name": "stdout",
     "output_type": "stream",
     "text": [
      "Epoch 1/100\n",
      "1109/1109 [==============================] - 13s 8ms/step - loss: 0.4701 - accuracy: 0.8035 - val_loss: 0.4447 - val_accuracy: 0.8101\n",
      "Epoch 2/100\n",
      "1109/1109 [==============================] - 5s 5ms/step - loss: 0.4350 - accuracy: 0.8233 - val_loss: 0.4323 - val_accuracy: 0.8247\n",
      "Epoch 3/100\n",
      "1109/1109 [==============================] - 5s 4ms/step - loss: 0.4275 - accuracy: 0.8307 - val_loss: 0.4281 - val_accuracy: 0.8262\n",
      "Epoch 4/100\n",
      "1109/1109 [==============================] - 6s 5ms/step - loss: 0.4247 - accuracy: 0.8317 - val_loss: 0.4270 - val_accuracy: 0.8258\n",
      "Epoch 5/100\n",
      "1109/1109 [==============================] - 5s 4ms/step - loss: 0.4234 - accuracy: 0.8326 - val_loss: 0.4258 - val_accuracy: 0.8268\n",
      "Epoch 6/100\n",
      "1109/1109 [==============================] - 5s 5ms/step - loss: 0.4225 - accuracy: 0.8324 - val_loss: 0.4256 - val_accuracy: 0.8262\n",
      "Epoch 7/100\n",
      "1109/1109 [==============================] - 7s 6ms/step - loss: 0.4219 - accuracy: 0.8319 - val_loss: 0.4249 - val_accuracy: 0.8270\n",
      "Epoch 8/100\n",
      "1109/1109 [==============================] - 5s 5ms/step - loss: 0.4215 - accuracy: 0.8324 - val_loss: 0.4247 - val_accuracy: 0.8262\n",
      "Epoch 9/100\n",
      "1109/1109 [==============================] - 5s 5ms/step - loss: 0.4211 - accuracy: 0.8324 - val_loss: 0.4245 - val_accuracy: 0.8262\n",
      "Epoch 10/100\n",
      "1109/1109 [==============================] - 6s 5ms/step - loss: 0.4209 - accuracy: 0.8321 - val_loss: 0.4241 - val_accuracy: 0.8263\n",
      "Epoch 11/100\n",
      "1109/1109 [==============================] - 5s 5ms/step - loss: 0.4206 - accuracy: 0.8322 - val_loss: 0.4237 - val_accuracy: 0.8264\n",
      "Epoch 12/100\n",
      "1109/1109 [==============================] - 5s 5ms/step - loss: 0.4204 - accuracy: 0.8323 - val_loss: 0.4237 - val_accuracy: 0.8263\n",
      "Epoch 13/100\n",
      "1109/1109 [==============================] - 5s 4ms/step - loss: 0.4202 - accuracy: 0.8322 - val_loss: 0.4236 - val_accuracy: 0.8263\n",
      "Epoch 14/100\n",
      "1109/1109 [==============================] - 4s 4ms/step - loss: 0.4200 - accuracy: 0.8322 - val_loss: 0.4232 - val_accuracy: 0.8263\n",
      "Epoch 15/100\n",
      "1109/1109 [==============================] - 4s 4ms/step - loss: 0.4198 - accuracy: 0.8321 - val_loss: 0.4232 - val_accuracy: 0.8264\n",
      "Epoch 16/100\n",
      "1109/1109 [==============================] - 4s 4ms/step - loss: 0.4195 - accuracy: 0.8321 - val_loss: 0.4232 - val_accuracy: 0.8263\n",
      "Epoch 17/100\n",
      "1109/1109 [==============================] - 4s 4ms/step - loss: 0.4195 - accuracy: 0.8320 - val_loss: 0.4226 - val_accuracy: 0.8262\n",
      "Epoch 18/100\n",
      "1109/1109 [==============================] - 4s 4ms/step - loss: 0.4192 - accuracy: 0.8321 - val_loss: 0.4224 - val_accuracy: 0.8260\n",
      "Epoch 19/100\n",
      "1109/1109 [==============================] - 4s 4ms/step - loss: 0.4190 - accuracy: 0.8322 - val_loss: 0.4227 - val_accuracy: 0.8259\n",
      "Epoch 20/100\n",
      "1109/1109 [==============================] - 4s 3ms/step - loss: 0.4189 - accuracy: 0.8322 - val_loss: 0.4226 - val_accuracy: 0.8258\n",
      "Epoch 21/100\n",
      "1109/1109 [==============================] - 4s 4ms/step - loss: 0.4188 - accuracy: 0.8322 - val_loss: 0.4225 - val_accuracy: 0.8270\n",
      "Epoch 22/100\n",
      "1109/1109 [==============================] - 4s 3ms/step - loss: 0.4186 - accuracy: 0.8320 - val_loss: 0.4219 - val_accuracy: 0.8260\n",
      "Epoch 23/100\n",
      "1109/1109 [==============================] - 5s 5ms/step - loss: 0.4184 - accuracy: 0.8318 - val_loss: 0.4219 - val_accuracy: 0.8267\n",
      "Epoch 24/100\n",
      "1109/1109 [==============================] - 5s 5ms/step - loss: 0.4183 - accuracy: 0.8320 - val_loss: 0.4220 - val_accuracy: 0.8266\n",
      "Epoch 25/100\n",
      "1109/1109 [==============================] - 4s 4ms/step - loss: 0.4181 - accuracy: 0.8323 - val_loss: 0.4226 - val_accuracy: 0.8279\n",
      "Epoch 26/100\n",
      "1109/1109 [==============================] - 5s 4ms/step - loss: 0.4180 - accuracy: 0.8318 - val_loss: 0.4214 - val_accuracy: 0.8273\n",
      "Epoch 27/100\n",
      "1109/1109 [==============================] - 4s 4ms/step - loss: 0.4178 - accuracy: 0.8322 - val_loss: 0.4212 - val_accuracy: 0.8262\n",
      "Epoch 28/100\n",
      "1109/1109 [==============================] - 4s 4ms/step - loss: 0.4178 - accuracy: 0.8323 - val_loss: 0.4215 - val_accuracy: 0.8263\n",
      "Epoch 29/100\n",
      "1109/1109 [==============================] - 4s 3ms/step - loss: 0.4176 - accuracy: 0.8323 - val_loss: 0.4214 - val_accuracy: 0.8254\n",
      "Epoch 30/100\n",
      "1109/1109 [==============================] - 4s 4ms/step - loss: 0.4175 - accuracy: 0.8322 - val_loss: 0.4218 - val_accuracy: 0.8255\n",
      "Epoch 31/100\n",
      "1109/1109 [==============================] - 4s 4ms/step - loss: 0.4174 - accuracy: 0.8323 - val_loss: 0.4215 - val_accuracy: 0.8255\n",
      "Epoch 32/100\n",
      "1109/1109 [==============================] - 5s 5ms/step - loss: 0.4173 - accuracy: 0.8320 - val_loss: 0.4210 - val_accuracy: 0.8275\n",
      "Epoch 33/100\n",
      "1109/1109 [==============================] - 6s 5ms/step - loss: 0.4171 - accuracy: 0.8324 - val_loss: 0.4209 - val_accuracy: 0.8260\n",
      "Epoch 34/100\n",
      "1109/1109 [==============================] - 5s 5ms/step - loss: 0.4169 - accuracy: 0.8320 - val_loss: 0.4208 - val_accuracy: 0.8275\n",
      "Epoch 35/100\n",
      "1109/1109 [==============================] - 5s 5ms/step - loss: 0.4169 - accuracy: 0.8328 - val_loss: 0.4214 - val_accuracy: 0.8259\n",
      "Epoch 36/100\n",
      "1109/1109 [==============================] - 5s 5ms/step - loss: 0.4169 - accuracy: 0.8321 - val_loss: 0.4203 - val_accuracy: 0.8262\n",
      "Epoch 37/100\n",
      "1109/1109 [==============================] - 5s 5ms/step - loss: 0.4166 - accuracy: 0.8319 - val_loss: 0.4203 - val_accuracy: 0.8271\n",
      "Epoch 38/100\n",
      "1109/1109 [==============================] - 5s 5ms/step - loss: 0.4166 - accuracy: 0.8325 - val_loss: 0.4213 - val_accuracy: 0.8260\n",
      "Epoch 39/100\n",
      "1109/1109 [==============================] - 6s 5ms/step - loss: 0.4165 - accuracy: 0.8321 - val_loss: 0.4200 - val_accuracy: 0.8266\n",
      "Epoch 40/100\n",
      "1109/1109 [==============================] - 5s 5ms/step - loss: 0.4164 - accuracy: 0.8325 - val_loss: 0.4201 - val_accuracy: 0.8264\n",
      "Epoch 41/100\n",
      "1109/1109 [==============================] - 7s 6ms/step - loss: 0.4162 - accuracy: 0.8318 - val_loss: 0.4199 - val_accuracy: 0.8272\n",
      "Epoch 42/100\n",
      "1109/1109 [==============================] - 5s 5ms/step - loss: 0.4162 - accuracy: 0.8325 - val_loss: 0.4200 - val_accuracy: 0.8271\n",
      "Epoch 43/100\n",
      "1109/1109 [==============================] - 5s 4ms/step - loss: 0.4162 - accuracy: 0.8324 - val_loss: 0.4204 - val_accuracy: 0.8268\n",
      "Epoch 44/100\n",
      "1109/1109 [==============================] - 5s 4ms/step - loss: 0.4159 - accuracy: 0.8328 - val_loss: 0.4196 - val_accuracy: 0.8275\n",
      "Epoch 45/100\n",
      "1109/1109 [==============================] - 8s 7ms/step - loss: 0.4159 - accuracy: 0.8320 - val_loss: 0.4197 - val_accuracy: 0.8266\n",
      "Epoch 46/100\n",
      "1109/1109 [==============================] - 9s 8ms/step - loss: 0.4158 - accuracy: 0.8322 - val_loss: 0.4200 - val_accuracy: 0.8270\n",
      "Epoch 47/100\n",
      "1109/1109 [==============================] - 8s 7ms/step - loss: 0.4157 - accuracy: 0.8324 - val_loss: 0.4201 - val_accuracy: 0.8281\n",
      "Epoch 48/100\n",
      "1109/1109 [==============================] - 8s 8ms/step - loss: 0.4156 - accuracy: 0.8324 - val_loss: 0.4194 - val_accuracy: 0.8279\n",
      "Epoch 49/100\n",
      "1109/1109 [==============================] - 10s 9ms/step - loss: 0.4154 - accuracy: 0.8327 - val_loss: 0.4191 - val_accuracy: 0.8277\n",
      "Epoch 50/100\n",
      "1109/1109 [==============================] - 8s 7ms/step - loss: 0.4152 - accuracy: 0.8324 - val_loss: 0.4193 - val_accuracy: 0.8277\n",
      "Epoch 51/100\n",
      "1109/1109 [==============================] - 8s 7ms/step - loss: 0.4151 - accuracy: 0.8331 - val_loss: 0.4191 - val_accuracy: 0.8283\n",
      "Epoch 52/100\n",
      "1109/1109 [==============================] - 7s 6ms/step - loss: 0.4152 - accuracy: 0.8326 - val_loss: 0.4192 - val_accuracy: 0.8272\n",
      "Epoch 53/100\n",
      "1109/1109 [==============================] - 7s 7ms/step - loss: 0.4152 - accuracy: 0.8324 - val_loss: 0.4188 - val_accuracy: 0.8277\n",
      "Epoch 54/100\n",
      "1109/1109 [==============================] - 6s 6ms/step - loss: 0.4148 - accuracy: 0.8326 - val_loss: 0.4193 - val_accuracy: 0.8287\n",
      "Epoch 55/100\n",
      "1109/1109 [==============================] - 7s 6ms/step - loss: 0.4149 - accuracy: 0.8323 - val_loss: 0.4186 - val_accuracy: 0.8283\n",
      "Epoch 56/100\n",
      "1109/1109 [==============================] - 8s 7ms/step - loss: 0.4148 - accuracy: 0.8323 - val_loss: 0.4187 - val_accuracy: 0.8284\n",
      "Epoch 57/100\n",
      "1109/1109 [==============================] - 6s 5ms/step - loss: 0.4145 - accuracy: 0.8333 - val_loss: 0.4197 - val_accuracy: 0.8284\n",
      "Epoch 58/100\n",
      "1109/1109 [==============================] - 5s 5ms/step - loss: 0.4144 - accuracy: 0.8333 - val_loss: 0.4186 - val_accuracy: 0.8276\n",
      "Epoch 59/100\n",
      "1109/1109 [==============================] - 6s 5ms/step - loss: 0.4145 - accuracy: 0.8325 - val_loss: 0.4191 - val_accuracy: 0.8287\n",
      "Epoch 60/100\n",
      "1109/1109 [==============================] - 5s 5ms/step - loss: 0.4142 - accuracy: 0.8325 - val_loss: 0.4182 - val_accuracy: 0.8283\n",
      "Epoch 61/100\n",
      "1109/1109 [==============================] - 5s 5ms/step - loss: 0.4141 - accuracy: 0.8327 - val_loss: 0.4187 - val_accuracy: 0.8275\n",
      "Epoch 62/100\n",
      "1109/1109 [==============================] - 5s 5ms/step - loss: 0.4141 - accuracy: 0.8329 - val_loss: 0.4215 - val_accuracy: 0.8264\n",
      "Epoch 63/100\n",
      "1109/1109 [==============================] - 5s 5ms/step - loss: 0.4139 - accuracy: 0.8329 - val_loss: 0.4189 - val_accuracy: 0.8291\n",
      "Epoch 64/100\n",
      "1109/1109 [==============================] - 5s 5ms/step - loss: 0.4140 - accuracy: 0.8325 - val_loss: 0.4197 - val_accuracy: 0.8276\n",
      "Epoch 65/100\n",
      "1109/1109 [==============================] - 5s 5ms/step - loss: 0.4135 - accuracy: 0.8327 - val_loss: 0.4178 - val_accuracy: 0.8277\n",
      "Epoch 66/100\n",
      "1109/1109 [==============================] - 6s 6ms/step - loss: 0.4136 - accuracy: 0.8330 - val_loss: 0.4180 - val_accuracy: 0.8276\n",
      "Epoch 67/100\n",
      "1109/1109 [==============================] - 5s 5ms/step - loss: 0.4135 - accuracy: 0.8329 - val_loss: 0.4182 - val_accuracy: 0.8288\n",
      "Epoch 68/100\n",
      "1109/1109 [==============================] - 5s 5ms/step - loss: 0.4135 - accuracy: 0.8332 - val_loss: 0.4183 - val_accuracy: 0.8277\n",
      "Epoch 69/100\n",
      "1109/1109 [==============================] - 5s 5ms/step - loss: 0.4132 - accuracy: 0.8335 - val_loss: 0.4178 - val_accuracy: 0.8279\n",
      "Epoch 70/100\n",
      "1109/1109 [==============================] - 5s 4ms/step - loss: 0.4132 - accuracy: 0.8328 - val_loss: 0.4176 - val_accuracy: 0.8285\n",
      "Epoch 71/100\n",
      "1109/1109 [==============================] - 5s 5ms/step - loss: 0.4131 - accuracy: 0.8333 - val_loss: 0.4191 - val_accuracy: 0.8272\n",
      "Epoch 72/100\n",
      "1109/1109 [==============================] - 5s 5ms/step - loss: 0.4129 - accuracy: 0.8330 - val_loss: 0.4185 - val_accuracy: 0.8271\n",
      "Epoch 73/100\n",
      "1109/1109 [==============================] - 5s 5ms/step - loss: 0.4130 - accuracy: 0.8333 - val_loss: 0.4182 - val_accuracy: 0.8275\n",
      "Epoch 74/100\n",
      "1109/1109 [==============================] - 6s 5ms/step - loss: 0.4127 - accuracy: 0.8331 - val_loss: 0.4184 - val_accuracy: 0.8287\n",
      "Epoch 75/100\n",
      "1109/1109 [==============================] - 6s 6ms/step - loss: 0.4127 - accuracy: 0.8334 - val_loss: 0.4176 - val_accuracy: 0.8281\n",
      "Epoch 76/100\n",
      "1109/1109 [==============================] - 6s 6ms/step - loss: 0.4127 - accuracy: 0.8330 - val_loss: 0.4180 - val_accuracy: 0.8285\n",
      "Epoch 77/100\n",
      "1109/1109 [==============================] - 6s 5ms/step - loss: 0.4126 - accuracy: 0.8333 - val_loss: 0.4172 - val_accuracy: 0.8281\n",
      "Epoch 78/100\n",
      "1109/1109 [==============================] - 5s 5ms/step - loss: 0.4126 - accuracy: 0.8329 - val_loss: 0.4172 - val_accuracy: 0.8289\n",
      "Epoch 79/100\n",
      "1109/1109 [==============================] - 5s 5ms/step - loss: 0.4123 - accuracy: 0.8332 - val_loss: 0.4197 - val_accuracy: 0.8273\n",
      "Epoch 80/100\n",
      "1109/1109 [==============================] - 8s 7ms/step - loss: 0.4124 - accuracy: 0.8333 - val_loss: 0.4185 - val_accuracy: 0.8285\n",
      "Epoch 81/100\n",
      "1109/1109 [==============================] - 8s 7ms/step - loss: 0.4122 - accuracy: 0.8333 - val_loss: 0.4187 - val_accuracy: 0.8276\n",
      "Epoch 82/100\n",
      "1109/1109 [==============================] - 7s 6ms/step - loss: 0.4120 - accuracy: 0.8336 - val_loss: 0.4197 - val_accuracy: 0.8271\n",
      "Epoch 83/100\n",
      "1109/1109 [==============================] - 7s 6ms/step - loss: 0.4120 - accuracy: 0.8335 - val_loss: 0.4175 - val_accuracy: 0.8281\n",
      "Epoch 84/100\n",
      "1109/1109 [==============================] - 6s 6ms/step - loss: 0.4120 - accuracy: 0.8332 - val_loss: 0.4170 - val_accuracy: 0.8287\n",
      "Epoch 85/100\n",
      "1109/1109 [==============================] - 9s 8ms/step - loss: 0.4121 - accuracy: 0.8332 - val_loss: 0.4170 - val_accuracy: 0.8284\n",
      "Epoch 86/100\n",
      "1109/1109 [==============================] - 7s 7ms/step - loss: 0.4117 - accuracy: 0.8342 - val_loss: 0.4173 - val_accuracy: 0.8279\n",
      "Epoch 87/100\n",
      "1109/1109 [==============================] - 8s 7ms/step - loss: 0.4118 - accuracy: 0.8337 - val_loss: 0.4166 - val_accuracy: 0.8280\n",
      "Epoch 88/100\n",
      "1109/1109 [==============================] - 7s 6ms/step - loss: 0.4117 - accuracy: 0.8335 - val_loss: 0.4171 - val_accuracy: 0.8279\n",
      "Epoch 89/100\n",
      "1109/1109 [==============================] - 6s 6ms/step - loss: 0.4116 - accuracy: 0.8333 - val_loss: 0.4164 - val_accuracy: 0.8293\n",
      "Epoch 90/100\n",
      "1109/1109 [==============================] - 7s 7ms/step - loss: 0.4115 - accuracy: 0.8334 - val_loss: 0.4178 - val_accuracy: 0.8281\n",
      "Epoch 91/100\n",
      "1109/1109 [==============================] - 8s 7ms/step - loss: 0.4116 - accuracy: 0.8333 - val_loss: 0.4169 - val_accuracy: 0.8288\n",
      "Epoch 92/100\n",
      "1109/1109 [==============================] - 7s 6ms/step - loss: 0.4113 - accuracy: 0.8337 - val_loss: 0.4213 - val_accuracy: 0.8292\n",
      "Epoch 93/100\n",
      "1109/1109 [==============================] - 7s 6ms/step - loss: 0.4113 - accuracy: 0.8339 - val_loss: 0.4176 - val_accuracy: 0.8297\n",
      "Epoch 94/100\n",
      "1109/1109 [==============================] - 6s 6ms/step - loss: 0.4112 - accuracy: 0.8333 - val_loss: 0.4166 - val_accuracy: 0.8287\n",
      "Epoch 95/100\n",
      "1109/1109 [==============================] - 6s 6ms/step - loss: 0.4109 - accuracy: 0.8336 - val_loss: 0.4166 - val_accuracy: 0.8285\n",
      "Epoch 96/100\n",
      "1109/1109 [==============================] - 5s 5ms/step - loss: 0.4110 - accuracy: 0.8338 - val_loss: 0.4160 - val_accuracy: 0.8287\n",
      "Epoch 97/100\n",
      "1109/1109 [==============================] - 6s 6ms/step - loss: 0.4109 - accuracy: 0.8332 - val_loss: 0.4178 - val_accuracy: 0.8289\n",
      "Epoch 98/100\n",
      "1109/1109 [==============================] - 8s 7ms/step - loss: 0.4106 - accuracy: 0.8335 - val_loss: 0.4212 - val_accuracy: 0.8268\n",
      "Epoch 99/100\n",
      "1109/1109 [==============================] - 8s 8ms/step - loss: 0.4106 - accuracy: 0.8335 - val_loss: 0.4160 - val_accuracy: 0.8300\n",
      "Epoch 100/100\n",
      "1109/1109 [==============================] - 7s 7ms/step - loss: 0.4103 - accuracy: 0.8337 - val_loss: 0.4163 - val_accuracy: 0.8280\n"
     ]
    }
   ],
   "source": [
    "#TRAINING THE MODEL\n",
    "hist = customer_model.fit(X_train, Y_train, batch_size=32, epochs=100, validation_data=(X_val, Y_val))"
   ]
  },
  {
   "cell_type": "code",
   "execution_count": 21,
   "metadata": {},
   "outputs": [
    {
     "name": "stdout",
     "output_type": "stream",
     "text": [
      "238/238 [==============================] - 1s 5ms/step - loss: 0.4238 - accuracy: 0.8278\n"
     ]
    },
    {
     "data": {
      "text/plain": [
       "0.8277631402015686"
      ]
     },
     "execution_count": 21,
     "metadata": {},
     "output_type": "execute_result"
    }
   ],
   "source": [
    "#EVALUATING THE MODEL'S PERFORMANCE\n",
    "customer_model.evaluate(X_test, Y_test)[1]"
   ]
  },
  {
   "cell_type": "code",
   "execution_count": 22,
   "metadata": {},
   "outputs": [
    {
     "data": {
      "text/plain": [
       "0.5039952403699933"
      ]
     },
     "execution_count": 22,
     "metadata": {},
     "output_type": "execute_result"
    }
   ],
   "source": [
    "mean_absolute_error(Y_val, predictions)"
   ]
  },
  {
   "cell_type": "code",
   "execution_count": 23,
   "metadata": {},
   "outputs": [
    {
     "data": {
      "text/plain": [
       "0.5051620344119174"
      ]
     },
     "execution_count": 23,
     "metadata": {},
     "output_type": "execute_result"
    }
   ],
   "source": [
    "mean_squared_error(Y_val, predictions)\n",
    "math.sqrt(mean_squared_error(Y_val, predictions))"
   ]
  },
  {
   "cell_type": "code",
   "execution_count": 24,
   "metadata": {},
   "outputs": [
    {
     "data": {
      "text/plain": [
       "0.19857876036320568"
      ]
     },
     "execution_count": 24,
     "metadata": {},
     "output_type": "execute_result"
    }
   ],
   "source": [
    "np.mean(Y_val)"
   ]
  },
  {
   "cell_type": "code",
   "execution_count": 25,
   "metadata": {},
   "outputs": [
    {
     "data": {
      "text/plain": [
       "0.5113844"
      ]
     },
     "execution_count": 25,
     "metadata": {},
     "output_type": "execute_result"
    }
   ],
   "source": [
    "np.mean(predictions)"
   ]
  },
  {
   "cell_type": "code",
   "execution_count": 26,
   "metadata": {},
   "outputs": [
    {
     "data": {
      "image/png": "[encoded data removed]",
      "text/plain": [
       "<Figure size 720x432 with 1 Axes>"
      ]
     },
     "metadata": {},
     "output_type": "display_data"
    }
   ],
   "source": [
    "#VISUALIZATION OF THE TRAINING LOSS AND THE VALIDATION LOSS FOR THE MODEL\n",
    "plt.plot(hist.history['loss'])\n",
    "plt.plot(hist.history['val_loss'])\n",
    "plt.title('Model loss')\n",
    "plt.ylabel('Loss')\n",
    "plt.xlabel('Epoch')\n",
    "plt.legend(['Train', 'Val'], loc='upper right')\n",
    "plt.show()"
   ]
  },
  {
   "cell_type": "code",
   "execution_count": 27,
   "metadata": {},
   "outputs": [
    {
     "data": {
      "image/png": "[encoded data removed]",
      "text/plain": [
       "<Figure size 720x432 with 1 Axes>"
      ]
     },
     "metadata": {},
     "output_type": "display_data"
    }
   ],
   "source": [
    "#VISUALIZATION OF THE TRAINING ACCURACY AND VALIDATION ACCURACY\n",
    "#FROM THIS GRAPH, THE SIGNIFICANT VARIATION BETWEEN THE TRAINING ACCURACY AND THE VALIDATION ACCURACY SIGNIFIES THAT THE MODEL IS SOMEWHAT OVERFITTING THE DATA. \n",
    "plt.plot(hist.history['accuracy'])\n",
    "plt.plot(hist.history['val_accuracy'])\n",
    "plt.title('Model accuracy')\n",
    "plt.ylabel('Accuracy')\n",
    "plt.xlabel('Epoch')\n",
    "plt.legend(['Train', 'Val'], loc='lower right')\n",
    "plt.show()"
   ]
  },
  {
   "cell_type": "code",
   "execution_count": 30,
   "metadata": {},
   "outputs": [
    {
     "name": "stdout",
     "output_type": "stream",
     "text": [
      "Model: \"sequential_3\"\n",
      "_________________________________________________________________\n",
      "Layer (type)                 Output Shape              Param #   \n",
      "=================================================================\n",
      "dense_11 (Dense)             (None, 1000)              41000     \n",
      "_________________________________________________________________\n",
      "dropout_4 (Dropout)          (None, 1000)              0         \n",
      "_________________________________________________________________\n",
      "dense_12 (Dense)             (None, 1000)              1001000   \n",
      "_________________________________________________________________\n",
      "dropout_5 (Dropout)          (None, 1000)              0         \n",
      "_________________________________________________________________\n",
      "dense_13 (Dense)             (None, 1000)              1001000   \n",
      "_________________________________________________________________\n",
      "dropout_6 (Dropout)          (None, 1000)              0         \n",
      "_________________________________________________________________\n",
      "dense_14 (Dense)             (None, 1000)              1001000   \n",
      "_________________________________________________________________\n",
      "dropout_7 (Dropout)          (None, 1000)              0         \n",
      "_________________________________________________________________\n",
      "dense_15 (Dense)             (None, 1)                 1001      \n",
      "=================================================================\n",
      "Total params: 3,045,001\n",
      "Trainable params: 3,045,001\n",
      "Non-trainable params: 0\n",
      "_________________________________________________________________\n"
     ]
    }
   ],
   "source": [
    "#DEFINING A SECOND MODEL, THAT USES REGULARIZATION TO MINIMIZE OVERFITTING AND IMPROVE THE GENERAL ACCURACY. \n",
    "#THE ARCHITECTURE\n",
    "customer_model_2 = Sequential([\n",
    "    Dense(1000, activation='relu', kernel_regularizer=regularizers.l2(0.01), input_shape=(40,)),\n",
    "    Dropout(0.3),\n",
    "    Dense(1000, activation='relu', kernel_regularizer=regularizers.l2(0.01)),\n",
    "    Dropout(0.3),\n",
    "    Dense(1000, activation='relu', kernel_regularizer=regularizers.l2(0.01)),\n",
    "    Dropout(0.3),\n",
    "    Dense(1000, activation='relu', kernel_regularizer=regularizers.l2(0.01)),\n",
    "    Dropout(0.3),\n",
    "    Dense(1, activation='sigmoid', kernel_regularizer=regularizers.l2(0.01)),\n",
    "])\n",
    "customer_model_2.summary()"
   ]
  },
  {
   "cell_type": "code",
   "execution_count": 31,
   "metadata": {},
   "outputs": [
    {
     "name": "stdout",
     "output_type": "stream",
     "text": [
      "Epoch 1/30\n",
      "355/355 [==============================] - 86s 226ms/step - loss: 1.8968 - accuracy: 0.8044 - val_loss: 0.4998 - val_accuracy: 0.8014\n",
      "Epoch 2/30\n",
      "355/355 [==============================] - 75s 210ms/step - loss: 0.5008 - accuracy: 0.8056 - val_loss: 0.4984 - val_accuracy: 0.8014\n",
      "Epoch 3/30\n",
      "355/355 [==============================] - 81s 229ms/step - loss: 0.5007 - accuracy: 0.8056 - val_loss: 0.4991 - val_accuracy: 0.8014\n",
      "Epoch 4/30\n",
      "355/355 [==============================] - 74s 209ms/step - loss: 0.4996 - accuracy: 0.8056 - val_loss: 0.4980 - val_accuracy: 0.8014\n",
      "Epoch 5/30\n",
      "355/355 [==============================] - 67s 187ms/step - loss: 0.4991 - accuracy: 0.8056 - val_loss: 0.4989 - val_accuracy: 0.8014\n",
      "Epoch 6/30\n",
      "355/355 [==============================] - 65s 183ms/step - loss: 0.4984 - accuracy: 0.8056 - val_loss: 0.4980 - val_accuracy: 0.8014\n",
      "Epoch 7/30\n",
      "355/355 [==============================] - 72s 204ms/step - loss: 0.5013 - accuracy: 0.8056 - val_loss: 0.4987 - val_accuracy: 0.8014\n",
      "Epoch 8/30\n",
      "355/355 [==============================] - 87s 246ms/step - loss: 0.4992 - accuracy: 0.8056 - val_loss: 0.4979 - val_accuracy: 0.8014- E\n",
      "Epoch 9/30\n",
      "355/355 [==============================] - 79s 223ms/step - loss: 0.4994 - accuracy: 0.8056 - val_loss: 0.4984 - val_accuracy: 0.8014\n",
      "Epoch 10/30\n",
      "355/355 [==============================] - 73s 206ms/step - loss: 0.4986 - accuracy: 0.8056 - val_loss: 0.4989 - val_accuracy: 0.8014\n",
      "Epoch 11/30\n",
      "355/355 [==============================] - 77s 217ms/step - loss: 0.4998 - accuracy: 0.8056 - val_loss: 0.4976 - val_accuracy: 0.8014\n",
      "Epoch 12/30\n",
      "355/355 [==============================] - 73s 205ms/step - loss: 0.4999 - accuracy: 0.8056 - val_loss: 0.4987 - val_accuracy: 0.8014\n",
      "Epoch 13/30\n",
      "355/355 [==============================] - 74s 209ms/step - loss: 0.4992 - accuracy: 0.8056 - val_loss: 0.5009 - val_accuracy: 0.8014\n",
      "Epoch 14/30\n",
      "355/355 [==============================] - 80s 226ms/step - loss: 0.4994 - accuracy: 0.8056 - val_loss: 0.5040 - val_accuracy: 0.8014\n",
      "Epoch 15/30\n",
      "355/355 [==============================] - 83s 234ms/step - loss: 0.4982 - accuracy: 0.8056 - val_loss: 0.4963 - val_accuracy: 0.8014\n",
      "Epoch 16/30\n",
      "355/355 [==============================] - 105s 295ms/step - loss: 0.4999 - accuracy: 0.8056 - val_loss: 0.4967 - val_accuracy: 0.8014\n",
      "Epoch 17/30\n",
      "355/355 [==============================] - 88s 249ms/step - loss: 0.4982 - accuracy: 0.8056 - val_loss: 0.5019 - val_accuracy: 0.8014\n",
      "Epoch 18/30\n",
      "355/355 [==============================] - 75s 211ms/step - loss: 0.5004 - accuracy: 0.8056 - val_loss: 0.4983 - val_accuracy: 0.8014\n",
      "Epoch 19/30\n",
      "355/355 [==============================] - 72s 202ms/step - loss: 0.4986 - accuracy: 0.8056 - val_loss: 0.4967 - val_accuracy: 0.8014\n",
      "Epoch 20/30\n",
      "355/355 [==============================] - 73s 206ms/step - loss: 0.4994 - accuracy: 0.8056 - val_loss: 0.4980 - val_accuracy: 0.8014\n",
      "Epoch 21/30\n",
      "355/355 [==============================] - 74s 208ms/step - loss: 0.4993 - accuracy: 0.8056 - val_loss: 0.4981 - val_accuracy: 0.8014\n",
      "Epoch 22/30\n",
      "355/355 [==============================] - 72s 203ms/step - loss: 0.4992 - accuracy: 0.8056 - val_loss: 0.4979 - val_accuracy: 0.8014\n",
      "Epoch 23/30\n",
      "355/355 [==============================] - 97s 274ms/step - loss: 0.4993 - accuracy: 0.8056 - val_loss: 0.5026 - val_accuracy: 0.8014\n",
      "Epoch 24/30\n",
      "355/355 [==============================] - 98s 277ms/step - loss: 0.4979 - accuracy: 0.8056 - val_loss: 0.4967 - val_accuracy: 0.8014\n",
      "Epoch 25/30\n",
      "355/355 [==============================] - 82s 230ms/step - loss: 0.4988 - accuracy: 0.8056 - val_loss: 0.4970 - val_accuracy: 0.8014\n",
      "Epoch 26/30\n",
      "355/355 [==============================] - 74s 208ms/step - loss: 0.4997 - accuracy: 0.8056 - val_loss: 0.4973 - val_accuracy: 0.8014\n",
      "Epoch 27/30\n",
      "355/355 [==============================] - 75s 212ms/step - loss: 0.4982 - accuracy: 0.8056 - val_loss: 0.4962 - val_accuracy: 0.8014\n",
      "Epoch 28/30\n",
      "355/355 [==============================] - 73s 207ms/step - loss: 0.4986 - accuracy: 0.8056 - val_loss: 0.4979 - val_accuracy: 0.8014\n",
      "Epoch 29/30\n",
      "355/355 [==============================] - 80s 226ms/step - loss: 0.4995 - accuracy: 0.8056 - val_loss: 0.4967 - val_accuracy: 0.8014\n",
      "Epoch 30/30\n",
      "355/355 [==============================] - 69s 195ms/step - loss: 0.4989 - accuracy: 0.8056 - val_loss: 0.4966 - val_accuracy: 0.8014\n"
     ]
    }
   ],
   "source": [
    "customer_model_2.compile(optimizer='adam', loss='binary_crossentropy', metrics=['accuracy'])\n",
    "              \n",
    "hist_2 = customer_model_2.fit(X_train, Y_train, batch_size=100, epochs=30, validation_data=(X_val, Y_val))\n",
    "predictions = customer_model_2.predict(X_val)"
   ]
  },
  {
   "cell_type": "code",
   "execution_count": 32,
   "metadata": {},
   "outputs": [
    {
     "name": "stdout",
     "output_type": "stream",
     "text": [
      "238/238 [==============================] - 8s 33ms/step - loss: 0.4953 - accuracy: 0.8030 1s - loss: 0.4907 - accuracy - ETA: 0s -\n"
     ]
    },
    {
     "data": {
      "text/plain": [
       "0.8030263185501099"
      ]
     },
     "execution_count": 32,
     "metadata": {},
     "output_type": "execute_result"
    }
   ],
   "source": [
    "#MODEL EVALUATION\n",
    "customer_model_2.evaluate(X_test, Y_test)[1]"
   ]
  },
  {
   "cell_type": "code",
   "execution_count": 33,
   "metadata": {},
   "outputs": [
    {
     "data": {
      "image/png": "[encoded data removed]",
      "text/plain": [
       "<Figure size 720x432 with 1 Axes>"
      ]
     },
     "metadata": {},
     "output_type": "display_data"
    }
   ],
   "source": [
    "#VISUALIZATION OF THE TRAINING LOSS AND THE VALIDATION LOSS FOR THE MODEL\n",
    "#CLEARLY, THE MODEL DOES SEEM TO PERFORM BETTER\n",
    "plt.plot(hist_2.history['loss'])\n",
    "plt.plot(hist_2.history['val_loss'])\n",
    "plt.title('Model loss')\n",
    "plt.ylabel('Loss')\n",
    "plt.xlabel('Epoch')\n",
    "plt.legend(['Train', 'Val'], loc='upper right')\n",
    "plt.ylim(top=1.2, bottom=0)\n",
    "plt.show()"
   ]
  },
  {
   "cell_type": "code",
   "execution_count": 34,
   "metadata": {},
   "outputs": [
    {
     "data": {
      "image/png": "[encoded data removed]",
      "text/plain": [
       "<Figure size 720x432 with 1 Axes>"
      ]
     },
     "metadata": {},
     "output_type": "display_data"
    }
   ],
   "source": [
    "#VISUALIZATION OF THE TRAINING ACCURACY AND THE VALIDATION ACCURACY\n",
    "#ALTHOUGH THE MODEL STILL SEEMS TO OVERFIT THE DATA, THERE IS A SIGNIFICANT IMPROVEMENT WHEN COMPARED TO THE FIRST MODEL\n",
    "plt.plot(hist_2.history['accuracy'])\n",
    "plt.plot(hist_2.history['val_accuracy'])\n",
    "plt.title('Model accuracy')\n",
    "plt.ylabel('Accuracy')\n",
    "plt.xlabel('Epoch')\n",
    "plt.legend(['Train', 'Val'], loc='lower right')\n",
    "plt.show()"
   ]
  },
  {
   "cell_type": "code",
   "execution_count": 35,
   "metadata": {},
   "outputs": [
    {
     "data": {
      "text/plain": [
       "0.2912728505897622"
      ]
     },
     "execution_count": 35,
     "metadata": {},
     "output_type": "execute_result"
    }
   ],
   "source": [
    "#THE MODEL ALSO REGISTERS A LOWER MEAN SQUARED ERROR COMPARED TO THE FIRST MODEL. \n",
    "#THE M.A.E IS BIGGER COMPARED TO THE 20% MAE REGISTERED BY THE SVM MODEL\n",
    "mean_absolute_error(Y_val, predictions)"
   ]
  },
  {
   "cell_type": "code",
   "execution_count": 36,
   "metadata": {},
   "outputs": [
    {
     "data": {
      "text/plain": [
       "0.3761598555935236"
      ]
     },
     "execution_count": 36,
     "metadata": {},
     "output_type": "execute_result"
    }
   ],
   "source": [
    "mean_squared_error(Y_val, predictions)\n",
    "math.sqrt(mean_squared_error(Y_val, predictions))"
   ]
  },
  {
   "cell_type": "code",
   "execution_count": 37,
   "metadata": {},
   "outputs": [
    {
     "data": {
      "text/plain": [
       "0.0"
      ]
     },
     "execution_count": 37,
     "metadata": {},
     "output_type": "execute_result"
    }
   ],
   "source": [
    "m = metrics.Precision()\n",
    "m.update_state(Y_val, predictions)\n",
    "m.result().numpy()"
   ]
  },
  {
   "cell_type": "code",
   "execution_count": 38,
   "metadata": {},
   "outputs": [
    {
     "data": {
      "text/plain": [
       "0.0"
      ]
     },
     "execution_count": 38,
     "metadata": {},
     "output_type": "execute_result"
    }
   ],
   "source": [
    "m_1 = metrics.Recall()\n",
    "m_1.update_state(Y_val, predictions)\n",
    "m_1.result().numpy()"
   ]
  },
  {
   "cell_type": "code",
   "execution_count": 39,
   "metadata": {},
   "outputs": [
    {
     "name": "stdout",
     "output_type": "stream",
     "text": [
      "INFO:tensorflow:Assets written to: loan_determinant_ANN\\assets\n"
     ]
    }
   ],
   "source": [
    "customer_model_2.save('loan_determinant_ANN', save_format='tf')"
   ]
  }
 ],
 "metadata": {
  "interpreter": {
   "hash": "13f38cf28d818ed05ed31d9d4f5b20000160d246f2c83cb873de1fcaec656d23"
  },
  "kernelspec": {
   "display_name": "Python 3.9.7 64-bit (windows store)",
   "name": "python3"
  },
  "language_info": {
   "codemirror_mode": {
    "name": "ipython",
    "version": 3
   },
   "file_extension": ".py",
   "mimetype": "text/x-python",
   "name": "python",
   "nbconvert_exporter": "python",
   "pygments_lexer": "ipython3",
   "version": "3.9.10"
  },
  "orig_nbformat": 4
 },
 "nbformat": 4,
 "nbformat_minor": 2
}
