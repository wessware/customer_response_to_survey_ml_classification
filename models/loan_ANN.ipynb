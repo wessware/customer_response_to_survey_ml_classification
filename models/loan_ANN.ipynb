{
 "cells": [
  {
   "cell_type": "markdown",
   "metadata": {},
   "source": [
    "Import what will be needed for the exercise"
   ]
  },
  {
   "cell_type": "code",
   "execution_count": 1,
   "metadata": {},
   "outputs": [],
   "source": [
    "import numpy as np\n",
    "import pandas as pd\n",
    "import matplotlib\n",
    "import matplotlib.pyplot as plt \n",
    "import sklearn\n",
    "import csv\n",
    "import math\n",
    "from sklearn import preprocessing\n",
    "from sklearn.preprocessing import LabelEncoder\n",
    "from sklearn.preprocessing import StandardScaler\n",
    "from sklearn.model_selection import train_test_split\n",
    "from sklearn.metrics import mean_absolute_error\n",
    "from sklearn.metrics import mean_squared_error\n",
    "from sklearn.preprocessing import MinMaxScaler\n",
    "\n",
    "from numpy.random import seed\n",
    "import tensorflow\n",
    "tensorflow.random.set_seed(1)\n",
    "from tensorflow.python.keras.layers import Dense\n",
    "from tensorflow.keras.layers import Dropout\n",
    "from tensorflow.python.keras.models import Sequential\n",
    "from tensorflow.python.keras import regularizers\n",
    "from tensorflow.python.keras import metrics\n",
    "from tensorflow.keras.models import load_model"
   ]
  },
  {
   "cell_type": "code",
   "execution_count": 3,
   "metadata": {},
   "outputs": [],
   "source": [
    "import seaborn as sns \n",
    "sns.set_style('darkgrid')\n",
    "matplotlib.rcParams['font.size'] = 14\n",
    "matplotlib.rcParams['figure.figsize'] = (10, 6)\n",
    "matplotlib.rcParams['figure.facecolor'] = '#000000'"
   ]
  },
  {
   "cell_type": "code",
   "execution_count": 4,
   "metadata": {},
   "outputs": [],
   "source": [
    "#load the dataset\n",
    "loan_data = pd.read_csv('loan_data_clean.csv')"
   ]
  },
  {
   "cell_type": "code",
   "execution_count": 5,
   "metadata": {},
   "outputs": [
    {
     "data": {
      "text/html": [
       "<div>\n",
       "<style scoped>\n",
       "    .dataframe tbody tr th:only-of-type {\n",
       "        vertical-align: middle;\n",
       "    }\n",
       "\n",
       "    .dataframe tbody tr th {\n",
       "        vertical-align: top;\n",
       "    }\n",
       "\n",
       "    .dataframe thead th {\n",
       "        text-align: right;\n",
       "    }\n",
       "</style>\n",
       "<table border=\"1\" class=\"dataframe\">\n",
       "  <thead>\n",
       "    <tr style=\"text-align: right;\">\n",
       "      <th></th>\n",
       "      <th>Unnamed: 0</th>\n",
       "      <th>Gender</th>\n",
       "      <th>Married</th>\n",
       "      <th>Dependents</th>\n",
       "      <th>Education</th>\n",
       "      <th>Self_Employed</th>\n",
       "      <th>ApplicantIncome</th>\n",
       "      <th>CoapplicantIncome</th>\n",
       "      <th>LoanAmount</th>\n",
       "      <th>Loan_Amount_Term</th>\n",
       "      <th>Credit_History</th>\n",
       "      <th>Property_Area</th>\n",
       "      <th>Loan_Status</th>\n",
       "    </tr>\n",
       "  </thead>\n",
       "  <tbody>\n",
       "    <tr>\n",
       "      <th>0</th>\n",
       "      <td>0</td>\n",
       "      <td>1</td>\n",
       "      <td>0</td>\n",
       "      <td>0.0</td>\n",
       "      <td>0</td>\n",
       "      <td>0</td>\n",
       "      <td>376</td>\n",
       "      <td>0.0</td>\n",
       "      <td>146.412162</td>\n",
       "      <td>360.0</td>\n",
       "      <td>1.0</td>\n",
       "      <td>2</td>\n",
       "      <td>1</td>\n",
       "    </tr>\n",
       "    <tr>\n",
       "      <th>1</th>\n",
       "      <td>1</td>\n",
       "      <td>1</td>\n",
       "      <td>1</td>\n",
       "      <td>1.0</td>\n",
       "      <td>0</td>\n",
       "      <td>0</td>\n",
       "      <td>306</td>\n",
       "      <td>1508.0</td>\n",
       "      <td>128.000000</td>\n",
       "      <td>360.0</td>\n",
       "      <td>1.0</td>\n",
       "      <td>0</td>\n",
       "      <td>0</td>\n",
       "    </tr>\n",
       "    <tr>\n",
       "      <th>2</th>\n",
       "      <td>2</td>\n",
       "      <td>1</td>\n",
       "      <td>1</td>\n",
       "      <td>0.0</td>\n",
       "      <td>0</td>\n",
       "      <td>1</td>\n",
       "      <td>139</td>\n",
       "      <td>0.0</td>\n",
       "      <td>66.000000</td>\n",
       "      <td>360.0</td>\n",
       "      <td>1.0</td>\n",
       "      <td>2</td>\n",
       "      <td>1</td>\n",
       "    </tr>\n",
       "    <tr>\n",
       "      <th>3</th>\n",
       "      <td>3</td>\n",
       "      <td>1</td>\n",
       "      <td>1</td>\n",
       "      <td>0.0</td>\n",
       "      <td>1</td>\n",
       "      <td>0</td>\n",
       "      <td>90</td>\n",
       "      <td>2358.0</td>\n",
       "      <td>120.000000</td>\n",
       "      <td>360.0</td>\n",
       "      <td>1.0</td>\n",
       "      <td>2</td>\n",
       "      <td>1</td>\n",
       "    </tr>\n",
       "    <tr>\n",
       "      <th>4</th>\n",
       "      <td>4</td>\n",
       "      <td>1</td>\n",
       "      <td>0</td>\n",
       "      <td>0.0</td>\n",
       "      <td>0</td>\n",
       "      <td>0</td>\n",
       "      <td>381</td>\n",
       "      <td>0.0</td>\n",
       "      <td>141.000000</td>\n",
       "      <td>360.0</td>\n",
       "      <td>1.0</td>\n",
       "      <td>2</td>\n",
       "      <td>1</td>\n",
       "    </tr>\n",
       "    <tr>\n",
       "      <th>...</th>\n",
       "      <td>...</td>\n",
       "      <td>...</td>\n",
       "      <td>...</td>\n",
       "      <td>...</td>\n",
       "      <td>...</td>\n",
       "      <td>...</td>\n",
       "      <td>...</td>\n",
       "      <td>...</td>\n",
       "      <td>...</td>\n",
       "      <td>...</td>\n",
       "      <td>...</td>\n",
       "      <td>...</td>\n",
       "      <td>...</td>\n",
       "    </tr>\n",
       "    <tr>\n",
       "      <th>609</th>\n",
       "      <td>609</td>\n",
       "      <td>0</td>\n",
       "      <td>0</td>\n",
       "      <td>0.0</td>\n",
       "      <td>0</td>\n",
       "      <td>0</td>\n",
       "      <td>125</td>\n",
       "      <td>0.0</td>\n",
       "      <td>71.000000</td>\n",
       "      <td>360.0</td>\n",
       "      <td>1.0</td>\n",
       "      <td>0</td>\n",
       "      <td>1</td>\n",
       "    </tr>\n",
       "    <tr>\n",
       "      <th>610</th>\n",
       "      <td>610</td>\n",
       "      <td>1</td>\n",
       "      <td>1</td>\n",
       "      <td>3.0</td>\n",
       "      <td>0</td>\n",
       "      <td>0</td>\n",
       "      <td>275</td>\n",
       "      <td>0.0</td>\n",
       "      <td>40.000000</td>\n",
       "      <td>180.0</td>\n",
       "      <td>1.0</td>\n",
       "      <td>0</td>\n",
       "      <td>1</td>\n",
       "    </tr>\n",
       "    <tr>\n",
       "      <th>611</th>\n",
       "      <td>611</td>\n",
       "      <td>1</td>\n",
       "      <td>1</td>\n",
       "      <td>1.0</td>\n",
       "      <td>0</td>\n",
       "      <td>0</td>\n",
       "      <td>431</td>\n",
       "      <td>240.0</td>\n",
       "      <td>253.000000</td>\n",
       "      <td>360.0</td>\n",
       "      <td>1.0</td>\n",
       "      <td>2</td>\n",
       "      <td>1</td>\n",
       "    </tr>\n",
       "    <tr>\n",
       "      <th>612</th>\n",
       "      <td>612</td>\n",
       "      <td>1</td>\n",
       "      <td>1</td>\n",
       "      <td>2.0</td>\n",
       "      <td>0</td>\n",
       "      <td>0</td>\n",
       "      <td>422</td>\n",
       "      <td>0.0</td>\n",
       "      <td>187.000000</td>\n",
       "      <td>360.0</td>\n",
       "      <td>1.0</td>\n",
       "      <td>2</td>\n",
       "      <td>1</td>\n",
       "    </tr>\n",
       "    <tr>\n",
       "      <th>613</th>\n",
       "      <td>613</td>\n",
       "      <td>0</td>\n",
       "      <td>0</td>\n",
       "      <td>0.0</td>\n",
       "      <td>0</td>\n",
       "      <td>1</td>\n",
       "      <td>306</td>\n",
       "      <td>0.0</td>\n",
       "      <td>133.000000</td>\n",
       "      <td>360.0</td>\n",
       "      <td>0.0</td>\n",
       "      <td>1</td>\n",
       "      <td>0</td>\n",
       "    </tr>\n",
       "  </tbody>\n",
       "</table>\n",
       "<p>614 rows × 13 columns</p>\n",
       "</div>"
      ],
      "text/plain": [
       "     Unnamed: 0  Gender  Married  Dependents  Education  Self_Employed  \\\n",
       "0             0       1        0         0.0          0              0   \n",
       "1             1       1        1         1.0          0              0   \n",
       "2             2       1        1         0.0          0              1   \n",
       "3             3       1        1         0.0          1              0   \n",
       "4             4       1        0         0.0          0              0   \n",
       "..          ...     ...      ...         ...        ...            ...   \n",
       "609         609       0        0         0.0          0              0   \n",
       "610         610       1        1         3.0          0              0   \n",
       "611         611       1        1         1.0          0              0   \n",
       "612         612       1        1         2.0          0              0   \n",
       "613         613       0        0         0.0          0              1   \n",
       "\n",
       "     ApplicantIncome  CoapplicantIncome  LoanAmount  Loan_Amount_Term  \\\n",
       "0                376                0.0  146.412162             360.0   \n",
       "1                306             1508.0  128.000000             360.0   \n",
       "2                139                0.0   66.000000             360.0   \n",
       "3                 90             2358.0  120.000000             360.0   \n",
       "4                381                0.0  141.000000             360.0   \n",
       "..               ...                ...         ...               ...   \n",
       "609              125                0.0   71.000000             360.0   \n",
       "610              275                0.0   40.000000             180.0   \n",
       "611              431              240.0  253.000000             360.0   \n",
       "612              422                0.0  187.000000             360.0   \n",
       "613              306                0.0  133.000000             360.0   \n",
       "\n",
       "     Credit_History  Property_Area  Loan_Status  \n",
       "0               1.0              2            1  \n",
       "1               1.0              0            0  \n",
       "2               1.0              2            1  \n",
       "3               1.0              2            1  \n",
       "4               1.0              2            1  \n",
       "..              ...            ...          ...  \n",
       "609             1.0              0            1  \n",
       "610             1.0              0            1  \n",
       "611             1.0              2            1  \n",
       "612             1.0              2            1  \n",
       "613             0.0              1            0  \n",
       "\n",
       "[614 rows x 13 columns]"
      ]
     },
     "execution_count": 5,
     "metadata": {},
     "output_type": "execute_result"
    }
   ],
   "source": [
    "loan_data"
   ]
  },
  {
   "cell_type": "code",
   "execution_count": 6,
   "metadata": {},
   "outputs": [
    {
     "data": {
      "text/plain": [
       "(614, 13)"
      ]
     },
     "execution_count": 6,
     "metadata": {},
     "output_type": "execute_result"
    }
   ],
   "source": [
    "loan_data.shape"
   ]
  },
  {
   "cell_type": "markdown",
   "metadata": {},
   "source": [
    "Data Preparation"
   ]
  },
  {
   "cell_type": "code",
   "execution_count": 7,
   "metadata": {},
   "outputs": [],
   "source": [
    "#save the dataset as an array of numerical values\n",
    "loan_data_df = loan_data.values"
   ]
  },
  {
   "cell_type": "code",
   "execution_count": 8,
   "metadata": {},
   "outputs": [
    {
     "data": {
      "text/plain": [
       "array([[  0.,   1.,   0., ...,   1.,   2.,   1.],\n",
       "       [  1.,   1.,   1., ...,   1.,   0.,   0.],\n",
       "       [  2.,   1.,   1., ...,   1.,   2.,   1.],\n",
       "       ...,\n",
       "       [611.,   1.,   1., ...,   1.,   2.,   1.],\n",
       "       [612.,   1.,   1., ...,   1.,   2.,   1.],\n",
       "       [613.,   0.,   0., ...,   0.,   1.,   0.]])"
      ]
     },
     "execution_count": 8,
     "metadata": {},
     "output_type": "execute_result"
    }
   ],
   "source": [
    "loan_data_df"
   ]
  },
  {
   "cell_type": "code",
   "execution_count": 9,
   "metadata": {},
   "outputs": [],
   "source": [
    "#Splitting the dataset into categories. The X category (containing 12 columns) will be used to predict the y category (containing 1 column)\n",
    "X = loan_data_df[:,0:12]"
   ]
  },
  {
   "cell_type": "code",
   "execution_count": 10,
   "metadata": {},
   "outputs": [],
   "source": [
    "y = loan_data_df[:,12]"
   ]
  },
  {
   "cell_type": "code",
   "execution_count": 11,
   "metadata": {},
   "outputs": [
    {
     "data": {
      "text/plain": [
       "array([1., 0., 1., 1., 1., 1., 1., 0., 1., 0., 1., 1., 1., 0., 1., 1., 1.,\n",
       "       0., 0., 1., 0., 1., 0., 0., 0., 1., 1., 1., 0., 1., 0., 0., 0., 1.,\n",
       "       0., 1., 0., 1., 1., 1., 0., 1., 1., 1., 1., 1., 1., 1., 0., 1., 1.,\n",
       "       1., 0., 0., 0., 1., 1., 0., 1., 1., 1., 1., 0., 0., 0., 0., 0., 1.,\n",
       "       1., 0., 1., 1., 1., 0., 1., 0., 0., 0., 0., 1., 1., 1., 0., 0., 1.,\n",
       "       1., 1., 1., 1., 1., 1., 1., 1., 1., 1., 0., 1., 1., 1., 1., 1., 1.,\n",
       "       1., 1., 1., 1., 1., 0., 0., 1., 1., 1., 0., 1., 1., 1., 1., 1., 0.,\n",
       "       1., 1., 1., 1., 1., 1., 1., 1., 1., 0., 0., 1., 1., 1., 1., 1., 0.,\n",
       "       0., 1., 0., 0., 0., 1., 1., 1., 1., 1., 1., 1., 0., 1., 0., 1., 0.,\n",
       "       0., 1., 1., 1., 1., 1., 1., 1., 0., 0., 1., 1., 1., 0., 1., 0., 1.,\n",
       "       1., 1., 0., 1., 0., 1., 1., 0., 1., 0., 0., 0., 1., 0., 1., 1., 0.,\n",
       "       1., 1., 1., 1., 0., 0., 1., 1., 0., 1., 1., 1., 0., 1., 1., 0., 1.,\n",
       "       1., 1., 1., 1., 1., 0., 0., 0., 1., 1., 1., 1., 0., 1., 0., 1., 0.,\n",
       "       1., 1., 1., 1., 0., 0., 1., 1., 1., 1., 1., 1., 1., 1., 1., 0., 1.,\n",
       "       1., 1., 1., 0., 1., 1., 1., 0., 1., 1., 1., 1., 0., 0., 1., 1., 0.,\n",
       "       1., 0., 0., 0., 0., 1., 1., 0., 1., 1., 1., 1., 1., 0., 1., 1., 1.,\n",
       "       1., 1., 1., 1., 1., 1., 1., 1., 0., 1., 1., 1., 0., 1., 0., 1., 1.,\n",
       "       1., 1., 0., 1., 0., 1., 1., 1., 1., 0., 0., 0., 1., 1., 1., 1., 0.,\n",
       "       1., 0., 0., 1., 1., 1., 1., 1., 0., 1., 1., 1., 1., 0., 1., 1., 1.,\n",
       "       1., 1., 0., 1., 1., 0., 1., 1., 1., 1., 1., 1., 1., 1., 1., 0., 1.,\n",
       "       0., 0., 1., 1., 1., 1., 0., 1., 1., 1., 1., 0., 1., 0., 1., 1., 1.,\n",
       "       0., 0., 1., 0., 1., 1., 1., 1., 0., 0., 0., 1., 0., 1., 1., 1., 0.,\n",
       "       1., 1., 1., 1., 0., 1., 1., 1., 1., 1., 0., 1., 1., 0., 1., 1., 1.,\n",
       "       1., 1., 1., 1., 1., 0., 1., 1., 0., 0., 0., 1., 1., 0., 1., 1., 1.,\n",
       "       0., 0., 0., 1., 0., 1., 0., 1., 0., 0., 1., 1., 1., 0., 1., 0., 1.,\n",
       "       1., 0., 1., 1., 1., 1., 0., 1., 1., 1., 1., 1., 1., 0., 1., 1., 1.,\n",
       "       1., 1., 1., 1., 1., 0., 0., 0., 0., 1., 0., 1., 1., 1., 1., 0., 1.,\n",
       "       0., 1., 1., 1., 1., 0., 1., 0., 1., 1., 0., 1., 0., 1., 1., 1., 1.,\n",
       "       1., 0., 1., 0., 1., 1., 1., 1., 1., 1., 0., 0., 1., 0., 1., 1., 1.,\n",
       "       1., 0., 1., 1., 1., 1., 0., 1., 1., 1., 0., 1., 1., 1., 0., 1., 1.,\n",
       "       0., 1., 1., 0., 0., 1., 1., 0., 0., 0., 1., 1., 1., 1., 0., 1., 1.,\n",
       "       1., 1., 1., 1., 1., 0., 0., 1., 1., 1., 1., 0., 1., 1., 0., 1., 1.,\n",
       "       1., 1., 0., 1., 0., 1., 0., 1., 1., 0., 0., 1., 1., 1., 1., 1., 1.,\n",
       "       1., 1., 1., 0., 1., 1., 0., 0., 0., 1., 0., 1., 0., 0., 1., 0., 1.,\n",
       "       1., 1., 1., 0., 1., 0., 0., 0., 1., 1., 1., 0., 1., 0., 1., 1., 1.,\n",
       "       1., 0., 0., 1., 1., 0., 1., 1., 1., 1., 0., 1., 1., 1., 1., 1., 1.,\n",
       "       1., 0.])"
      ]
     },
     "execution_count": 11,
     "metadata": {},
     "output_type": "execute_result"
    }
   ],
   "source": [
    "y"
   ]
  },
  {
   "cell_type": "code",
   "execution_count": 12,
   "metadata": {},
   "outputs": [
    {
     "data": {
      "text/plain": [
       "array([[  0.,   1.,   0., ..., 360.,   1.,   2.],\n",
       "       [  1.,   1.,   1., ..., 360.,   1.,   0.],\n",
       "       [  2.,   1.,   1., ..., 360.,   1.,   2.],\n",
       "       ...,\n",
       "       [611.,   1.,   1., ..., 360.,   1.,   2.],\n",
       "       [612.,   1.,   1., ..., 360.,   1.,   2.],\n",
       "       [613.,   0.,   0., ..., 360.,   0.,   1.]])"
      ]
     },
     "execution_count": 12,
     "metadata": {},
     "output_type": "execute_result"
    }
   ],
   "source": [
    "X"
   ]
  },
  {
   "cell_type": "code",
   "execution_count": 13,
   "metadata": {},
   "outputs": [],
   "source": [
    "#Scaling the dataset's X category columns to a smaller-range numerical values\n",
    "scaler = preprocessing.MinMaxScaler()\n",
    "X_scaled = scaler.fit_transform(X)"
   ]
  },
  {
   "cell_type": "code",
   "execution_count": 14,
   "metadata": {},
   "outputs": [],
   "source": [
    "#Split the dataset into training, testing and validation sets. \n",
    "X_train, X_val_and_test, Y_train, Y_val_and_test = train_test_split(X_scaled, y, test_size=0.3)"
   ]
  },
  {
   "cell_type": "code",
   "execution_count": 15,
   "metadata": {},
   "outputs": [],
   "source": [
    "X_val, X_test, Y_val, Y_test = train_test_split(X_val_and_test, Y_val_and_test, test_size=0.5)"
   ]
  },
  {
   "cell_type": "code",
   "execution_count": 16,
   "metadata": {},
   "outputs": [
    {
     "name": "stdout",
     "output_type": "stream",
     "text": [
      "(429, 12) (92, 12) (93, 12) (429,) (92,) (93,)\n"
     ]
    }
   ],
   "source": [
    "print(X_train.shape, X_val.shape, X_test.shape, Y_train.shape, Y_val.shape, Y_test.shape)"
   ]
  },
  {
   "cell_type": "code",
   "execution_count": null,
   "metadata": {},
   "outputs": [],
   "source": []
  },
  {
   "cell_type": "markdown",
   "metadata": {},
   "source": [
    "Building the Artificial Neural Network Model(s)"
   ]
  },
  {
   "cell_type": "code",
   "execution_count": 17,
   "metadata": {},
   "outputs": [
    {
     "name": "stdout",
     "output_type": "stream",
     "text": [
      "Model: \"sequential\"\n",
      "_________________________________________________________________\n",
      "Layer (type)                 Output Shape              Param #   \n",
      "=================================================================\n",
      "dense (Dense)                (None, 32)                416       \n",
      "_________________________________________________________________\n",
      "dense_1 (Dense)              (None, 32)                1056      \n",
      "_________________________________________________________________\n",
      "dense_2 (Dense)              (None, 1)                 33        \n",
      "=================================================================\n",
      "Total params: 1,505\n",
      "Trainable params: 1,505\n",
      "Non-trainable params: 0\n",
      "_________________________________________________________________\n"
     ]
    }
   ],
   "source": [
    "#THE ARCHITECTURE\n",
    "#Defining A two-layer Neural Network each with 32 Neurons using the Rectified Linear Activation Function (ReLu)\n",
    "#Pass onto the model the 12 columns of the X input category. \n",
    "loan_model = Sequential([\n",
    "    Dense(32, activation='relu', input_shape=(12,)),\n",
    "    Dense(32, activation='relu'),\n",
    "    Dense(1, activation='sigmoid'),\n",
    "])\n",
    "loan_model.summary()"
   ]
  },
  {
   "cell_type": "code",
   "execution_count": 18,
   "metadata": {},
   "outputs": [],
   "source": [
    "#OPTIMIZATION ALGORITHM FOR THE MODEL, MODEL LOSS FUNCTION, AND LOSS FUNCTION TRACKING METRIC\n",
    "loan_model.compile(optimizer='sgd', loss='binary_crossentropy', metrics=['accuracy'])\n",
    "predictions = loan_model.predict(X_val)"
   ]
  },
  {
   "cell_type": "code",
   "execution_count": 19,
   "metadata": {},
   "outputs": [
    {
     "name": "stdout",
     "output_type": "stream",
     "text": [
      "Epoch 1/100\n",
      "14/14 [==============================] - 3s 39ms/step - loss: 0.6660 - accuracy: 0.6807 - val_loss: 0.6536 - val_accuracy: 0.7283\n",
      "Epoch 2/100\n",
      "14/14 [==============================] - 0s 6ms/step - loss: 0.6532 - accuracy: 0.6923 - val_loss: 0.6381 - val_accuracy: 0.7283\n",
      "Epoch 3/100\n",
      "14/14 [==============================] - 0s 8ms/step - loss: 0.6418 - accuracy: 0.6853 - val_loss: 0.6254 - val_accuracy: 0.7174\n",
      "Epoch 4/100\n",
      "14/14 [==============================] - 0s 8ms/step - loss: 0.6326 - accuracy: 0.6760 - val_loss: 0.6159 - val_accuracy: 0.7174\n",
      "Epoch 5/100\n",
      "14/14 [==============================] - 0s 8ms/step - loss: 0.6258 - accuracy: 0.6760 - val_loss: 0.6076 - val_accuracy: 0.7174\n",
      "Epoch 6/100\n",
      "14/14 [==============================] - 0s 8ms/step - loss: 0.6199 - accuracy: 0.6760 - val_loss: 0.5998 - val_accuracy: 0.7174\n",
      "Epoch 7/100\n",
      "14/14 [==============================] - 0s 6ms/step - loss: 0.6145 - accuracy: 0.6760 - val_loss: 0.5935 - val_accuracy: 0.7174\n",
      "Epoch 8/100\n",
      "14/14 [==============================] - 0s 6ms/step - loss: 0.6102 - accuracy: 0.6760 - val_loss: 0.5885 - val_accuracy: 0.7174\n",
      "Epoch 9/100\n",
      "14/14 [==============================] - 0s 6ms/step - loss: 0.6065 - accuracy: 0.6760 - val_loss: 0.5844 - val_accuracy: 0.7174\n",
      "Epoch 10/100\n",
      "14/14 [==============================] - 0s 8ms/step - loss: 0.6037 - accuracy: 0.6760 - val_loss: 0.5805 - val_accuracy: 0.7174\n",
      "Epoch 11/100\n",
      "14/14 [==============================] - 0s 7ms/step - loss: 0.6009 - accuracy: 0.6760 - val_loss: 0.5771 - val_accuracy: 0.7174\n",
      "Epoch 12/100\n",
      "14/14 [==============================] - 0s 7ms/step - loss: 0.5986 - accuracy: 0.6760 - val_loss: 0.5740 - val_accuracy: 0.7174\n",
      "Epoch 13/100\n",
      "14/14 [==============================] - 0s 7ms/step - loss: 0.5963 - accuracy: 0.6760 - val_loss: 0.5713 - val_accuracy: 0.7174\n",
      "Epoch 14/100\n",
      "14/14 [==============================] - 0s 7ms/step - loss: 0.5946 - accuracy: 0.6760 - val_loss: 0.5689 - val_accuracy: 0.7174\n",
      "Epoch 15/100\n",
      "14/14 [==============================] - 0s 7ms/step - loss: 0.5927 - accuracy: 0.6760 - val_loss: 0.5669 - val_accuracy: 0.7174\n",
      "Epoch 16/100\n",
      "14/14 [==============================] - 0s 6ms/step - loss: 0.5912 - accuracy: 0.6760 - val_loss: 0.5655 - val_accuracy: 0.7174\n",
      "Epoch 17/100\n",
      "14/14 [==============================] - 0s 6ms/step - loss: 0.5899 - accuracy: 0.6760 - val_loss: 0.5638 - val_accuracy: 0.7174\n",
      "Epoch 18/100\n",
      "14/14 [==============================] - 0s 8ms/step - loss: 0.5886 - accuracy: 0.6760 - val_loss: 0.5626 - val_accuracy: 0.7174\n",
      "Epoch 19/100\n",
      "14/14 [==============================] - 0s 6ms/step - loss: 0.5873 - accuracy: 0.6760 - val_loss: 0.5610 - val_accuracy: 0.7174\n",
      "Epoch 20/100\n",
      "14/14 [==============================] - 0s 7ms/step - loss: 0.5860 - accuracy: 0.6760 - val_loss: 0.5594 - val_accuracy: 0.7174\n",
      "Epoch 21/100\n",
      "14/14 [==============================] - 0s 7ms/step - loss: 0.5846 - accuracy: 0.6760 - val_loss: 0.5583 - val_accuracy: 0.7174\n",
      "Epoch 22/100\n",
      "14/14 [==============================] - 0s 6ms/step - loss: 0.5833 - accuracy: 0.6760 - val_loss: 0.5571 - val_accuracy: 0.7174\n",
      "Epoch 23/100\n",
      "14/14 [==============================] - 0s 5ms/step - loss: 0.5821 - accuracy: 0.6760 - val_loss: 0.5561 - val_accuracy: 0.7174\n",
      "Epoch 24/100\n",
      "14/14 [==============================] - 0s 6ms/step - loss: 0.5810 - accuracy: 0.6760 - val_loss: 0.5547 - val_accuracy: 0.7174\n",
      "Epoch 25/100\n",
      "14/14 [==============================] - 0s 5ms/step - loss: 0.5796 - accuracy: 0.6760 - val_loss: 0.5533 - val_accuracy: 0.7174\n",
      "Epoch 26/100\n",
      "14/14 [==============================] - 0s 5ms/step - loss: 0.5782 - accuracy: 0.6760 - val_loss: 0.5523 - val_accuracy: 0.7174\n",
      "Epoch 27/100\n",
      "14/14 [==============================] - 0s 5ms/step - loss: 0.5770 - accuracy: 0.6760 - val_loss: 0.5514 - val_accuracy: 0.7174\n",
      "Epoch 28/100\n",
      "14/14 [==============================] - 0s 5ms/step - loss: 0.5758 - accuracy: 0.6760 - val_loss: 0.5504 - val_accuracy: 0.7174\n",
      "Epoch 29/100\n",
      "14/14 [==============================] - 0s 5ms/step - loss: 0.5744 - accuracy: 0.6783 - val_loss: 0.5491 - val_accuracy: 0.7174\n",
      "Epoch 30/100\n",
      "14/14 [==============================] - 0s 5ms/step - loss: 0.5730 - accuracy: 0.6783 - val_loss: 0.5478 - val_accuracy: 0.7174\n",
      "Epoch 31/100\n",
      "14/14 [==============================] - 0s 5ms/step - loss: 0.5717 - accuracy: 0.6783 - val_loss: 0.5471 - val_accuracy: 0.7174\n",
      "Epoch 32/100\n",
      "14/14 [==============================] - 0s 5ms/step - loss: 0.5703 - accuracy: 0.6783 - val_loss: 0.5460 - val_accuracy: 0.7174\n",
      "Epoch 33/100\n",
      "14/14 [==============================] - 0s 5ms/step - loss: 0.5690 - accuracy: 0.6783 - val_loss: 0.5448 - val_accuracy: 0.7174\n",
      "Epoch 34/100\n",
      "14/14 [==============================] - 0s 5ms/step - loss: 0.5676 - accuracy: 0.6830 - val_loss: 0.5436 - val_accuracy: 0.7174\n",
      "Epoch 35/100\n",
      "14/14 [==============================] - 0s 5ms/step - loss: 0.5661 - accuracy: 0.6876 - val_loss: 0.5427 - val_accuracy: 0.7174\n",
      "Epoch 36/100\n",
      "14/14 [==============================] - 0s 6ms/step - loss: 0.5649 - accuracy: 0.6900 - val_loss: 0.5415 - val_accuracy: 0.7174\n",
      "Epoch 37/100\n",
      "14/14 [==============================] - 0s 5ms/step - loss: 0.5636 - accuracy: 0.6946 - val_loss: 0.5405 - val_accuracy: 0.7283\n",
      "Epoch 38/100\n",
      "14/14 [==============================] - 0s 5ms/step - loss: 0.5622 - accuracy: 0.7016 - val_loss: 0.5394 - val_accuracy: 0.7391\n",
      "Epoch 39/100\n",
      "14/14 [==============================] - 0s 5ms/step - loss: 0.5609 - accuracy: 0.7016 - val_loss: 0.5382 - val_accuracy: 0.7391\n",
      "Epoch 40/100\n",
      "14/14 [==============================] - 0s 5ms/step - loss: 0.5593 - accuracy: 0.7086 - val_loss: 0.5369 - val_accuracy: 0.7500\n",
      "Epoch 41/100\n",
      "14/14 [==============================] - 0s 6ms/step - loss: 0.5579 - accuracy: 0.7133 - val_loss: 0.5357 - val_accuracy: 0.7500\n",
      "Epoch 42/100\n",
      "14/14 [==============================] - 0s 5ms/step - loss: 0.5564 - accuracy: 0.7179 - val_loss: 0.5345 - val_accuracy: 0.7500\n",
      "Epoch 43/100\n",
      "14/14 [==============================] - 0s 5ms/step - loss: 0.5550 - accuracy: 0.7226 - val_loss: 0.5331 - val_accuracy: 0.7500\n",
      "Epoch 44/100\n",
      "14/14 [==============================] - 0s 6ms/step - loss: 0.5536 - accuracy: 0.7226 - val_loss: 0.5320 - val_accuracy: 0.7717\n",
      "Epoch 45/100\n",
      "14/14 [==============================] - 0s 5ms/step - loss: 0.5523 - accuracy: 0.7226 - val_loss: 0.5307 - val_accuracy: 0.7717\n",
      "Epoch 46/100\n",
      "14/14 [==============================] - 0s 5ms/step - loss: 0.5507 - accuracy: 0.7319 - val_loss: 0.5294 - val_accuracy: 0.7717\n",
      "Epoch 47/100\n",
      "14/14 [==============================] - 0s 5ms/step - loss: 0.5495 - accuracy: 0.7413 - val_loss: 0.5279 - val_accuracy: 0.7717\n",
      "Epoch 48/100\n",
      "14/14 [==============================] - 0s 5ms/step - loss: 0.5480 - accuracy: 0.7436 - val_loss: 0.5274 - val_accuracy: 0.7717\n",
      "Epoch 49/100\n",
      "14/14 [==============================] - 0s 5ms/step - loss: 0.5466 - accuracy: 0.7692 - val_loss: 0.5265 - val_accuracy: 0.7826\n",
      "Epoch 50/100\n",
      "14/14 [==============================] - 0s 5ms/step - loss: 0.5452 - accuracy: 0.7762 - val_loss: 0.5254 - val_accuracy: 0.7826\n",
      "Epoch 51/100\n",
      "14/14 [==============================] - 0s 5ms/step - loss: 0.5438 - accuracy: 0.7809 - val_loss: 0.5240 - val_accuracy: 0.7935\n",
      "Epoch 52/100\n",
      "14/14 [==============================] - 0s 5ms/step - loss: 0.5422 - accuracy: 0.7902 - val_loss: 0.5227 - val_accuracy: 0.7935\n",
      "Epoch 53/100\n",
      "14/14 [==============================] - 0s 5ms/step - loss: 0.5408 - accuracy: 0.7949 - val_loss: 0.5213 - val_accuracy: 0.7935\n",
      "Epoch 54/100\n",
      "14/14 [==============================] - 0s 5ms/step - loss: 0.5395 - accuracy: 0.7949 - val_loss: 0.5202 - val_accuracy: 0.7935\n",
      "Epoch 55/100\n",
      "14/14 [==============================] - 0s 5ms/step - loss: 0.5380 - accuracy: 0.7995 - val_loss: 0.5193 - val_accuracy: 0.7935\n",
      "Epoch 56/100\n",
      "14/14 [==============================] - 0s 5ms/step - loss: 0.5365 - accuracy: 0.7995 - val_loss: 0.5184 - val_accuracy: 0.8043\n",
      "Epoch 57/100\n",
      "14/14 [==============================] - 0s 5ms/step - loss: 0.5353 - accuracy: 0.8065 - val_loss: 0.5169 - val_accuracy: 0.8152\n",
      "Epoch 58/100\n",
      "14/14 [==============================] - 0s 5ms/step - loss: 0.5339 - accuracy: 0.8065 - val_loss: 0.5161 - val_accuracy: 0.8152\n",
      "Epoch 59/100\n",
      "14/14 [==============================] - 0s 5ms/step - loss: 0.5324 - accuracy: 0.8065 - val_loss: 0.5155 - val_accuracy: 0.8152\n",
      "Epoch 60/100\n",
      "14/14 [==============================] - 0s 5ms/step - loss: 0.5311 - accuracy: 0.8089 - val_loss: 0.5142 - val_accuracy: 0.8152\n",
      "Epoch 61/100\n",
      "14/14 [==============================] - 0s 12ms/step - loss: 0.5297 - accuracy: 0.8089 - val_loss: 0.5136 - val_accuracy: 0.8152\n",
      "Epoch 62/100\n",
      "14/14 [==============================] - 0s 10ms/step - loss: 0.5283 - accuracy: 0.8135 - val_loss: 0.5117 - val_accuracy: 0.8152\n",
      "Epoch 63/100\n",
      "14/14 [==============================] - 0s 7ms/step - loss: 0.5268 - accuracy: 0.8135 - val_loss: 0.5108 - val_accuracy: 0.8152\n",
      "Epoch 64/100\n",
      "14/14 [==============================] - 0s 6ms/step - loss: 0.5253 - accuracy: 0.8135 - val_loss: 0.5097 - val_accuracy: 0.8152\n",
      "Epoch 65/100\n",
      "14/14 [==============================] - 0s 5ms/step - loss: 0.5241 - accuracy: 0.8135 - val_loss: 0.5083 - val_accuracy: 0.8152\n",
      "Epoch 66/100\n",
      "14/14 [==============================] - 0s 5ms/step - loss: 0.5228 - accuracy: 0.8135 - val_loss: 0.5073 - val_accuracy: 0.8152\n",
      "Epoch 67/100\n",
      "14/14 [==============================] - 0s 5ms/step - loss: 0.5216 - accuracy: 0.8112 - val_loss: 0.5062 - val_accuracy: 0.8152\n",
      "Epoch 68/100\n",
      "14/14 [==============================] - 0s 5ms/step - loss: 0.5204 - accuracy: 0.8112 - val_loss: 0.5055 - val_accuracy: 0.8152\n",
      "Epoch 69/100\n",
      "14/14 [==============================] - 0s 5ms/step - loss: 0.5192 - accuracy: 0.8112 - val_loss: 0.5050 - val_accuracy: 0.8152\n",
      "Epoch 70/100\n",
      "14/14 [==============================] - 0s 5ms/step - loss: 0.5180 - accuracy: 0.8112 - val_loss: 0.5039 - val_accuracy: 0.8152\n",
      "Epoch 71/100\n",
      "14/14 [==============================] - 0s 5ms/step - loss: 0.5169 - accuracy: 0.8112 - val_loss: 0.5030 - val_accuracy: 0.8152\n",
      "Epoch 72/100\n",
      "14/14 [==============================] - 0s 6ms/step - loss: 0.5154 - accuracy: 0.8112 - val_loss: 0.5022 - val_accuracy: 0.8152\n",
      "Epoch 73/100\n",
      "14/14 [==============================] - 0s 6ms/step - loss: 0.5146 - accuracy: 0.8112 - val_loss: 0.5014 - val_accuracy: 0.8152\n",
      "Epoch 74/100\n",
      "14/14 [==============================] - 0s 5ms/step - loss: 0.5134 - accuracy: 0.8112 - val_loss: 0.5009 - val_accuracy: 0.8152\n",
      "Epoch 75/100\n",
      "14/14 [==============================] - 0s 5ms/step - loss: 0.5121 - accuracy: 0.8112 - val_loss: 0.5005 - val_accuracy: 0.8152\n",
      "Epoch 76/100\n",
      "14/14 [==============================] - 0s 5ms/step - loss: 0.5113 - accuracy: 0.8112 - val_loss: 0.4995 - val_accuracy: 0.8152\n",
      "Epoch 77/100\n",
      "14/14 [==============================] - 0s 5ms/step - loss: 0.5099 - accuracy: 0.8112 - val_loss: 0.4988 - val_accuracy: 0.8152\n",
      "Epoch 78/100\n",
      "14/14 [==============================] - 0s 5ms/step - loss: 0.5087 - accuracy: 0.8112 - val_loss: 0.4979 - val_accuracy: 0.8152\n",
      "Epoch 79/100\n",
      "14/14 [==============================] - 0s 5ms/step - loss: 0.5077 - accuracy: 0.8112 - val_loss: 0.4975 - val_accuracy: 0.8152\n",
      "Epoch 80/100\n",
      "14/14 [==============================] - 0s 5ms/step - loss: 0.5066 - accuracy: 0.8112 - val_loss: 0.4965 - val_accuracy: 0.8152\n",
      "Epoch 81/100\n",
      "14/14 [==============================] - 0s 5ms/step - loss: 0.5057 - accuracy: 0.8112 - val_loss: 0.4961 - val_accuracy: 0.8152\n",
      "Epoch 82/100\n",
      "14/14 [==============================] - 0s 5ms/step - loss: 0.5047 - accuracy: 0.8112 - val_loss: 0.4956 - val_accuracy: 0.8152\n",
      "Epoch 83/100\n",
      "14/14 [==============================] - 0s 5ms/step - loss: 0.5038 - accuracy: 0.8112 - val_loss: 0.4946 - val_accuracy: 0.8152\n",
      "Epoch 84/100\n",
      "14/14 [==============================] - 0s 5ms/step - loss: 0.5029 - accuracy: 0.8112 - val_loss: 0.4947 - val_accuracy: 0.8152\n",
      "Epoch 85/100\n",
      "14/14 [==============================] - 0s 5ms/step - loss: 0.5018 - accuracy: 0.8112 - val_loss: 0.4943 - val_accuracy: 0.8152\n",
      "Epoch 86/100\n",
      "14/14 [==============================] - 0s 5ms/step - loss: 0.5010 - accuracy: 0.8112 - val_loss: 0.4933 - val_accuracy: 0.8152\n",
      "Epoch 87/100\n",
      "14/14 [==============================] - 0s 5ms/step - loss: 0.4997 - accuracy: 0.8112 - val_loss: 0.4925 - val_accuracy: 0.8152\n",
      "Epoch 88/100\n",
      "14/14 [==============================] - 0s 5ms/step - loss: 0.4990 - accuracy: 0.8112 - val_loss: 0.4924 - val_accuracy: 0.8152\n",
      "Epoch 89/100\n",
      "14/14 [==============================] - 0s 5ms/step - loss: 0.4980 - accuracy: 0.8112 - val_loss: 0.4921 - val_accuracy: 0.8152\n",
      "Epoch 90/100\n",
      "14/14 [==============================] - 0s 5ms/step - loss: 0.4973 - accuracy: 0.8112 - val_loss: 0.4920 - val_accuracy: 0.8152\n",
      "Epoch 91/100\n",
      "14/14 [==============================] - 0s 5ms/step - loss: 0.4962 - accuracy: 0.8112 - val_loss: 0.4907 - val_accuracy: 0.8152\n",
      "Epoch 92/100\n",
      "14/14 [==============================] - 0s 5ms/step - loss: 0.4951 - accuracy: 0.8112 - val_loss: 0.4901 - val_accuracy: 0.8152\n",
      "Epoch 93/100\n",
      "14/14 [==============================] - 0s 5ms/step - loss: 0.4943 - accuracy: 0.8112 - val_loss: 0.4895 - val_accuracy: 0.8152\n",
      "Epoch 94/100\n",
      "14/14 [==============================] - 0s 6ms/step - loss: 0.4936 - accuracy: 0.8112 - val_loss: 0.4895 - val_accuracy: 0.8152\n",
      "Epoch 95/100\n",
      "14/14 [==============================] - 0s 5ms/step - loss: 0.4925 - accuracy: 0.8112 - val_loss: 0.4893 - val_accuracy: 0.8152\n",
      "Epoch 96/100\n",
      "14/14 [==============================] - 0s 5ms/step - loss: 0.4917 - accuracy: 0.8112 - val_loss: 0.4898 - val_accuracy: 0.8152\n",
      "Epoch 97/100\n",
      "14/14 [==============================] - 0s 5ms/step - loss: 0.4911 - accuracy: 0.8112 - val_loss: 0.4889 - val_accuracy: 0.8152\n",
      "Epoch 98/100\n",
      "14/14 [==============================] - 0s 6ms/step - loss: 0.4901 - accuracy: 0.8112 - val_loss: 0.4883 - val_accuracy: 0.8152\n",
      "Epoch 99/100\n",
      "14/14 [==============================] - 0s 5ms/step - loss: 0.4888 - accuracy: 0.8112 - val_loss: 0.4876 - val_accuracy: 0.8152\n",
      "Epoch 100/100\n",
      "14/14 [==============================] - 0s 5ms/step - loss: 0.4880 - accuracy: 0.8112 - val_loss: 0.4875 - val_accuracy: 0.8152\n"
     ]
    }
   ],
   "source": [
    "#TRAINING THE MODEL\n",
    "hist = loan_model.fit(X_train, Y_train, batch_size=32, epochs=100, validation_data=(X_val, Y_val))"
   ]
  },
  {
   "cell_type": "code",
   "execution_count": 20,
   "metadata": {},
   "outputs": [
    {
     "name": "stdout",
     "output_type": "stream",
     "text": [
      "3/3 [==============================] - 0s 3ms/step - loss: 0.4993 - accuracy: 0.7957\n"
     ]
    },
    {
     "data": {
      "text/plain": [
       "0.7956989407539368"
      ]
     },
     "execution_count": 20,
     "metadata": {},
     "output_type": "execute_result"
    }
   ],
   "source": [
    "#EVALUATING THE MODEL'S PERFORMANCE\n",
    "loan_model.evaluate(X_test, Y_test)[1]"
   ]
  },
  {
   "cell_type": "code",
   "execution_count": 21,
   "metadata": {},
   "outputs": [
    {
     "data": {
      "text/plain": [
       "0.4877577045041582"
      ]
     },
     "execution_count": 21,
     "metadata": {},
     "output_type": "execute_result"
    }
   ],
   "source": [
    "mean_absolute_error(Y_val, predictions)"
   ]
  },
  {
   "cell_type": "code",
   "execution_count": 22,
   "metadata": {},
   "outputs": [
    {
     "data": {
      "text/plain": [
       "0.4885876566092047"
      ]
     },
     "execution_count": 22,
     "metadata": {},
     "output_type": "execute_result"
    }
   ],
   "source": [
    "mean_squared_error(Y_val, predictions)\n",
    "math.sqrt(mean_squared_error(Y_val, predictions))"
   ]
  },
  {
   "cell_type": "code",
   "execution_count": 23,
   "metadata": {},
   "outputs": [
    {
     "data": {
      "text/plain": [
       "0.717391304347826"
      ]
     },
     "execution_count": 23,
     "metadata": {},
     "output_type": "execute_result"
    }
   ],
   "source": [
    "np.mean(Y_val)"
   ]
  },
  {
   "cell_type": "code",
   "execution_count": 24,
   "metadata": {},
   "outputs": [
    {
     "data": {
      "text/plain": [
       "0.519805"
      ]
     },
     "execution_count": 24,
     "metadata": {},
     "output_type": "execute_result"
    }
   ],
   "source": [
    "np.mean(predictions)"
   ]
  },
  {
   "cell_type": "code",
   "execution_count": 25,
   "metadata": {},
   "outputs": [
    {
     "data": {
      "image/png": "[encoded data removed]",
      "text/plain": [
       "<Figure size 720x432 with 1 Axes>"
      ]
     },
     "metadata": {},
     "output_type": "display_data"
    }
   ],
   "source": [
    "#VISUALIZATION OF THE TRAINING LOSS AND THE VALIDATION LOSS FOR THE MODEL\n",
    "plt.plot(hist.history['loss'])\n",
    "plt.plot(hist.history['val_loss'])\n",
    "plt.title('Model loss')\n",
    "plt.ylabel('Loss')\n",
    "plt.xlabel('Epoch')\n",
    "plt.legend(['Train', 'Val'], loc='upper right')\n",
    "plt.show()"
   ]
  },
  {
   "cell_type": "code",
   "execution_count": 26,
   "metadata": {},
   "outputs": [
    {
     "data": {
      "image/png": "[encoded data removed]",
      "text/plain": [
       "<Figure size 720x432 with 1 Axes>"
      ]
     },
     "metadata": {},
     "output_type": "display_data"
    }
   ],
   "source": [
    "#VISUALIZATION OF THE TRAINING ACCURACY AND VALIDATION ACCURACY\n",
    "#FROM THIS GRAPH, THE SIGNIFICANT VARIATION BETWEEN THE TRAINING ACCURACY AND THE VALIDATION ACCURACY SIGNIFIES THAT THE MODEL IS SOMEWHAT OVERFITTING THE DATA. \n",
    "plt.plot(hist.history['accuracy'])\n",
    "plt.plot(hist.history['val_accuracy'])\n",
    "plt.title('Model accuracy')\n",
    "plt.ylabel('Accuracy')\n",
    "plt.xlabel('Epoch')\n",
    "plt.legend(['Train', 'Val'], loc='lower right')\n",
    "plt.show()"
   ]
  },
  {
   "cell_type": "code",
   "execution_count": 27,
   "metadata": {},
   "outputs": [
    {
     "name": "stdout",
     "output_type": "stream",
     "text": [
      "Model: \"sequential_1\"\n",
      "_________________________________________________________________\n",
      "Layer (type)                 Output Shape              Param #   \n",
      "=================================================================\n",
      "dense_3 (Dense)              (None, 1000)              13000     \n",
      "_________________________________________________________________\n",
      "dropout (Dropout)            (None, 1000)              0         \n",
      "_________________________________________________________________\n",
      "dense_4 (Dense)              (None, 1000)              1001000   \n",
      "_________________________________________________________________\n",
      "dropout_1 (Dropout)          (None, 1000)              0         \n",
      "_________________________________________________________________\n",
      "dense_5 (Dense)              (None, 1000)              1001000   \n",
      "_________________________________________________________________\n",
      "dropout_2 (Dropout)          (None, 1000)              0         \n",
      "_________________________________________________________________\n",
      "dense_6 (Dense)              (None, 1000)              1001000   \n",
      "_________________________________________________________________\n",
      "dropout_3 (Dropout)          (None, 1000)              0         \n",
      "_________________________________________________________________\n",
      "dense_7 (Dense)              (None, 1)                 1001      \n",
      "=================================================================\n",
      "Total params: 3,017,001\n",
      "Trainable params: 3,017,001\n",
      "Non-trainable params: 0\n",
      "_________________________________________________________________\n"
     ]
    }
   ],
   "source": [
    "#DEFINING A SECOND MODEL, THAT USES REGULARIZATION TO MINIMIZE OVERFITTING AND IMPROVE THE GENERAL ACCURACY. \n",
    "#THE ARCHITECTURE\n",
    "loan_model_2 = Sequential([\n",
    "    Dense(1000, activation='relu', kernel_regularizer=regularizers.l2(0.01), input_shape=(12,)),\n",
    "    Dropout(0.3),\n",
    "    Dense(1000, activation='relu', kernel_regularizer=regularizers.l2(0.01)),\n",
    "    Dropout(0.3),\n",
    "    Dense(1000, activation='relu', kernel_regularizer=regularizers.l2(0.01)),\n",
    "    Dropout(0.3),\n",
    "    Dense(1000, activation='relu', kernel_regularizer=regularizers.l2(0.01)),\n",
    "    Dropout(0.3),\n",
    "    Dense(1, activation='sigmoid', kernel_regularizer=regularizers.l2(0.01)),\n",
    "])\n",
    "loan_model_2.summary()"
   ]
  },
  {
   "cell_type": "code",
   "execution_count": 28,
   "metadata": {},
   "outputs": [
    {
     "name": "stdout",
     "output_type": "stream",
     "text": [
      "Epoch 1/30\n",
      "5/5 [==============================] - 3s 193ms/step - loss: 28.3263 - accuracy: 0.6364 - val_loss: 23.4621 - val_accuracy: 0.7174\n",
      "Epoch 2/30\n",
      "5/5 [==============================] - 1s 112ms/step - loss: 21.3852 - accuracy: 0.6760 - val_loss: 17.4556 - val_accuracy: 0.7174\n",
      "Epoch 3/30\n",
      "5/5 [==============================] - 1s 107ms/step - loss: 15.8113 - accuracy: 0.6760 - val_loss: 12.7245 - val_accuracy: 0.7174\n",
      "Epoch 4/30\n",
      "5/5 [==============================] - 1s 95ms/step - loss: 11.4625 - accuracy: 0.6760 - val_loss: 9.1071 - val_accuracy: 0.7174\n",
      "Epoch 5/30\n",
      "5/5 [==============================] - 1s 115ms/step - loss: 8.1711 - accuracy: 0.6760 - val_loss: 6.4210 - val_accuracy: 0.7174\n",
      "Epoch 6/30\n",
      "5/5 [==============================] - 1s 118ms/step - loss: 5.7400 - accuracy: 0.6760 - val_loss: 4.4797 - val_accuracy: 0.7174\n",
      "Epoch 7/30\n",
      "5/5 [==============================] - 1s 110ms/step - loss: 4.0125 - accuracy: 0.7319 - val_loss: 3.1256 - val_accuracy: 0.8152\n",
      "Epoch 8/30\n",
      "5/5 [==============================] - 1s 151ms/step - loss: 2.8035 - accuracy: 0.8065 - val_loss: 2.1888 - val_accuracy: 0.8043\n",
      "Epoch 9/30\n",
      "5/5 [==============================] - 1s 119ms/step - loss: 1.9777 - accuracy: 0.8065 - val_loss: 1.5764 - val_accuracy: 0.8043\n",
      "Epoch 10/30\n",
      "5/5 [==============================] - 1s 113ms/step - loss: 1.4444 - accuracy: 0.7716 - val_loss: 1.1778 - val_accuracy: 0.8043\n",
      "Epoch 11/30\n",
      "5/5 [==============================] - 1s 118ms/step - loss: 1.0987 - accuracy: 0.8089 - val_loss: 0.9295 - val_accuracy: 0.8043\n",
      "Epoch 12/30\n",
      "5/5 [==============================] - 1s 115ms/step - loss: 0.9110 - accuracy: 0.7809 - val_loss: 0.7934 - val_accuracy: 0.8152\n",
      "Epoch 13/30\n",
      "5/5 [==============================] - 1s 130ms/step - loss: 0.7727 - accuracy: 0.8112 - val_loss: 0.6937 - val_accuracy: 0.8152\n",
      "Epoch 14/30\n",
      "5/5 [==============================] - 1s 148ms/step - loss: 0.6965 - accuracy: 0.8112 - val_loss: 0.6428 - val_accuracy: 0.8152\n",
      "Epoch 15/30\n",
      "5/5 [==============================] - 1s 116ms/step - loss: 0.6601 - accuracy: 0.8112 - val_loss: 0.6270 - val_accuracy: 0.8152\n",
      "Epoch 16/30\n",
      "5/5 [==============================] - 1s 109ms/step - loss: 0.6338 - accuracy: 0.8112 - val_loss: 0.6024 - val_accuracy: 0.8152\n",
      "Epoch 17/30\n",
      "5/5 [==============================] - 1s 109ms/step - loss: 0.6217 - accuracy: 0.8112 - val_loss: 0.6031 - val_accuracy: 0.8152\n",
      "Epoch 18/30\n",
      "5/5 [==============================] - 1s 106ms/step - loss: 0.5967 - accuracy: 0.8112 - val_loss: 0.5878 - val_accuracy: 0.8152\n",
      "Epoch 19/30\n",
      "5/5 [==============================] - 0s 98ms/step - loss: 0.5964 - accuracy: 0.8112 - val_loss: 0.5869 - val_accuracy: 0.8152\n",
      "Epoch 20/30\n",
      "5/5 [==============================] - 0s 92ms/step - loss: 0.5902 - accuracy: 0.8112 - val_loss: 0.5847 - val_accuracy: 0.8152\n",
      "Epoch 21/30\n",
      "5/5 [==============================] - 0s 95ms/step - loss: 0.5833 - accuracy: 0.8112 - val_loss: 0.5847 - val_accuracy: 0.8152\n",
      "Epoch 22/30\n",
      "5/5 [==============================] - 0s 90ms/step - loss: 0.5920 - accuracy: 0.8112 - val_loss: 0.6141 - val_accuracy: 0.8152\n",
      "Epoch 23/30\n",
      "5/5 [==============================] - 0s 92ms/step - loss: 0.5924 - accuracy: 0.8135 - val_loss: 0.5923 - val_accuracy: 0.8152\n",
      "Epoch 24/30\n",
      "5/5 [==============================] - 0s 89ms/step - loss: 0.6087 - accuracy: 0.8112 - val_loss: 0.5883 - val_accuracy: 0.8152\n",
      "Epoch 25/30\n",
      "5/5 [==============================] - 1s 119ms/step - loss: 0.5837 - accuracy: 0.8159 - val_loss: 0.5825 - val_accuracy: 0.8152\n",
      "Epoch 26/30\n",
      "5/5 [==============================] - 0s 97ms/step - loss: 0.5804 - accuracy: 0.8112 - val_loss: 0.5819 - val_accuracy: 0.8152\n",
      "Epoch 27/30\n",
      "5/5 [==============================] - 1s 127ms/step - loss: 0.5791 - accuracy: 0.8112 - val_loss: 0.6020 - val_accuracy: 0.8152\n",
      "Epoch 28/30\n",
      "5/5 [==============================] - 1s 107ms/step - loss: 0.5811 - accuracy: 0.8205 - val_loss: 0.5800 - val_accuracy: 0.8152\n",
      "Epoch 29/30\n",
      "5/5 [==============================] - 1s 112ms/step - loss: 0.5799 - accuracy: 0.8135 - val_loss: 0.5818 - val_accuracy: 0.8152\n",
      "Epoch 30/30\n",
      "5/5 [==============================] - 1s 117ms/step - loss: 0.5639 - accuracy: 0.8159 - val_loss: 0.5817 - val_accuracy: 0.8152\n"
     ]
    }
   ],
   "source": [
    "loan_model_2.compile(optimizer='adam', loss='binary_crossentropy', metrics=['accuracy'])\n",
    "              \n",
    "hist_2 = loan_model_2.fit(X_train, Y_train, batch_size=100, epochs=30, validation_data=(X_val, Y_val))\n",
    "predictions = loan_model_2.predict(X_val)"
   ]
  },
  {
   "cell_type": "code",
   "execution_count": 29,
   "metadata": {},
   "outputs": [
    {
     "name": "stdout",
     "output_type": "stream",
     "text": [
      "3/3 [==============================] - 0s 18ms/step - loss: 0.6023 - accuracy: 0.7957\n"
     ]
    },
    {
     "data": {
      "text/plain": [
       "0.7956989407539368"
      ]
     },
     "execution_count": 29,
     "metadata": {},
     "output_type": "execute_result"
    }
   ],
   "source": [
    "#MODEL EVALUATION\n",
    "loan_model_2.evaluate(X_test, Y_test)[1]"
   ]
  },
  {
   "cell_type": "code",
   "execution_count": 30,
   "metadata": {},
   "outputs": [
    {
     "data": {
      "image/png": "[encoded data removed]",
      "text/plain": [
       "<Figure size 720x432 with 1 Axes>"
      ]
     },
     "metadata": {},
     "output_type": "display_data"
    }
   ],
   "source": [
    "#VISUALIZATION OF THE TRAINING LOSS AND THE VALIDATION LOSS FOR THE MODEL\n",
    "#CLEARLY, THE MODEL DOES SEEM TO PERFORM BETTER\n",
    "plt.plot(hist_2.history['loss'])\n",
    "plt.plot(hist_2.history['val_loss'])\n",
    "plt.title('Model loss')\n",
    "plt.ylabel('Loss')\n",
    "plt.xlabel('Epoch')\n",
    "plt.legend(['Train', 'Val'], loc='upper right')\n",
    "plt.ylim(top=1.2, bottom=0)\n",
    "plt.show()"
   ]
  },
  {
   "cell_type": "code",
   "execution_count": 31,
   "metadata": {},
   "outputs": [
    {
     "data": {
      "image/png": "[encoded data removed]",
      "text/plain": [
       "<Figure size 720x432 with 1 Axes>"
      ]
     },
     "metadata": {},
     "output_type": "display_data"
    }
   ],
   "source": [
    "#VISUALIZATION OF THE TRAINING ACCURACY AND THE VALIDATION ACCURACY\n",
    "#ALTHOUGH THE MODEL STILL SEEMS TO OVERFIT THE DATA, THERE IS A SIGNIFICANT IMPROVEMENT WHEN COMPARED TO THE FIRST MODEL\n",
    "plt.plot(hist_2.history['accuracy'])\n",
    "plt.plot(hist_2.history['val_accuracy'])\n",
    "plt.title('Model accuracy')\n",
    "plt.ylabel('Accuracy')\n",
    "plt.xlabel('Epoch')\n",
    "plt.legend(['Train', 'Val'], loc='lower right')\n",
    "plt.show()"
   ]
  },
  {
   "cell_type": "code",
   "execution_count": 32,
   "metadata": {},
   "outputs": [
    {
     "data": {
      "text/plain": [
       "0.3142681704915088"
      ]
     },
     "execution_count": 32,
     "metadata": {},
     "output_type": "execute_result"
    }
   ],
   "source": [
    "#THE MODEL ALSO REGISTERS A LOWER MEAN SQUARED ERROR COMPARED TO THE FIRST MODEL. \n",
    "#THE M.A.E IS BIGGER COMPARED TO THE 20% MAE REGISTERED BY THE SVM MODEL\n",
    "mean_absolute_error(Y_val, predictions)"
   ]
  },
  {
   "cell_type": "code",
   "execution_count": 33,
   "metadata": {},
   "outputs": [
    {
     "data": {
      "text/plain": [
       "0.39000127674563323"
      ]
     },
     "execution_count": 33,
     "metadata": {},
     "output_type": "execute_result"
    }
   ],
   "source": [
    "mean_squared_error(Y_val, predictions)\n",
    "math.sqrt(mean_squared_error(Y_val, predictions))"
   ]
  },
  {
   "cell_type": "code",
   "execution_count": 36,
   "metadata": {},
   "outputs": [
    {
     "data": {
      "text/plain": [
       "0.8101266"
      ]
     },
     "execution_count": 36,
     "metadata": {},
     "output_type": "execute_result"
    }
   ],
   "source": [
    "m = metrics.Precision()\n",
    "m.update_state(Y_val, predictions)\n",
    "m.result().numpy()"
   ]
  },
  {
   "cell_type": "code",
   "execution_count": 37,
   "metadata": {},
   "outputs": [
    {
     "data": {
      "text/plain": [
       "0.969697"
      ]
     },
     "execution_count": 37,
     "metadata": {},
     "output_type": "execute_result"
    }
   ],
   "source": [
    "m_1 = metrics.Recall()\n",
    "m_1.update_state(Y_val, predictions)\n",
    "m_1.result().numpy()"
   ]
  },
  {
   "cell_type": "code",
   "execution_count": 38,
   "metadata": {},
   "outputs": [
    {
     "name": "stdout",
     "output_type": "stream",
     "text": [
      "INFO:tensorflow:Assets written to: loan_determinant_ANN\\assets\n"
     ]
    }
   ],
   "source": [
    "loan_model_2.save('loan_determinant_ANN', save_format='tf')"
   ]
  }
 ],
 "metadata": {
  "interpreter": {
   "hash": "13f38cf28d818ed05ed31d9d4f5b20000160d246f2c83cb873de1fcaec656d23"
  },
  "kernelspec": {
   "display_name": "Python 3.9.7 64-bit (windows store)",
   "name": "python3"
  },
  "language_info": {
   "codemirror_mode": {
    "name": "ipython",
    "version": 3
   },
   "file_extension": ".py",
   "mimetype": "text/x-python",
   "name": "python",
   "nbconvert_exporter": "python",
   "pygments_lexer": "ipython3",
   "version": "3.9.7"
  },
  "orig_nbformat": 4
 },
 "nbformat": 4,
 "nbformat_minor": 2
}
